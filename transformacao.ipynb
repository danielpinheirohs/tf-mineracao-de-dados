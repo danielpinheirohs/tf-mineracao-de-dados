{
 "cells": [
  {
   "cell_type": "code",
   "execution_count": 1,
   "metadata": {},
   "outputs": [],
   "source": [
    "import pandas as pd\n",
    "import numpy as np\n",
    "\n",
    "data = pd.read_csv('data/UCMF_limpo.csv')\n",
    "data.index = data['ID']\n",
    "data = data.drop('ID', axis=1)"
   ]
  },
  {
   "cell_type": "code",
   "execution_count": 2,
   "metadata": {},
   "outputs": [
    {
     "data": {
      "text/html": [
       "<div>\n",
       "<style scoped>\n",
       "    .dataframe tbody tr th:only-of-type {\n",
       "        vertical-align: middle;\n",
       "    }\n",
       "\n",
       "    .dataframe tbody tr th {\n",
       "        vertical-align: top;\n",
       "    }\n",
       "\n",
       "    .dataframe thead th {\n",
       "        text-align: right;\n",
       "    }\n",
       "</style>\n",
       "<table border=\"1\" class=\"dataframe\">\n",
       "  <thead>\n",
       "    <tr style=\"text-align: right;\">\n",
       "      <th></th>\n",
       "      <th>IMC</th>\n",
       "      <th>IDADE</th>\n",
       "      <th>PULSOS</th>\n",
       "      <th>PPA</th>\n",
       "      <th>NORMAL X ANORMAL</th>\n",
       "      <th>B2</th>\n",
       "      <th>SOPRO</th>\n",
       "      <th>FC</th>\n",
       "      <th>HDA 1</th>\n",
       "      <th>HDA2</th>\n",
       "      <th>SEXO</th>\n",
       "      <th>MOTIVO1</th>\n",
       "      <th>MOTIVO2</th>\n",
       "    </tr>\n",
       "    <tr>\n",
       "      <th>ID</th>\n",
       "      <th></th>\n",
       "      <th></th>\n",
       "      <th></th>\n",
       "      <th></th>\n",
       "      <th></th>\n",
       "      <th></th>\n",
       "      <th></th>\n",
       "      <th></th>\n",
       "      <th></th>\n",
       "      <th></th>\n",
       "      <th></th>\n",
       "      <th></th>\n",
       "      <th></th>\n",
       "    </tr>\n",
       "  </thead>\n",
       "  <tbody>\n",
       "    <tr>\n",
       "      <th>1</th>\n",
       "      <td>19.0</td>\n",
       "      <td>0.12</td>\n",
       "      <td>Normais</td>\n",
       "      <td>Não Calculado</td>\n",
       "      <td>Anormal</td>\n",
       "      <td>Normal</td>\n",
       "      <td>Sistólico</td>\n",
       "      <td>112</td>\n",
       "      <td>Palpitacao</td>\n",
       "      <td>Palpitacao</td>\n",
       "      <td>Masculino</td>\n",
       "      <td>Grupo 6</td>\n",
       "      <td>Grupo 6</td>\n",
       "    </tr>\n",
       "    <tr>\n",
       "      <th>2</th>\n",
       "      <td>14.0</td>\n",
       "      <td>0.02</td>\n",
       "      <td>Normais</td>\n",
       "      <td>Não Calculado</td>\n",
       "      <td>Anormal</td>\n",
       "      <td>Normal</td>\n",
       "      <td>Ausente</td>\n",
       "      <td>128</td>\n",
       "      <td>Dispneia</td>\n",
       "      <td>Palpitacao</td>\n",
       "      <td>Masculino</td>\n",
       "      <td>Grupo 6</td>\n",
       "      <td>Grupo 6</td>\n",
       "    </tr>\n",
       "    <tr>\n",
       "      <th>3</th>\n",
       "      <td>16.0</td>\n",
       "      <td>0.01</td>\n",
       "      <td>Normais</td>\n",
       "      <td>Não Calculado</td>\n",
       "      <td>Anormal</td>\n",
       "      <td>Normal</td>\n",
       "      <td>Sistólico</td>\n",
       "      <td>88</td>\n",
       "      <td>Assintomático</td>\n",
       "      <td>Palpitacao</td>\n",
       "      <td>Masculino</td>\n",
       "      <td>Grupo 2</td>\n",
       "      <td>Grupo 5</td>\n",
       "    </tr>\n",
       "    <tr>\n",
       "      <th>4</th>\n",
       "      <td>19.0</td>\n",
       "      <td>0.50</td>\n",
       "      <td>Normais</td>\n",
       "      <td>Não Calculado</td>\n",
       "      <td>Anormal</td>\n",
       "      <td>Normal</td>\n",
       "      <td>Ausente</td>\n",
       "      <td>92</td>\n",
       "      <td>Assintomático</td>\n",
       "      <td>Palpitacao</td>\n",
       "      <td>Masculino</td>\n",
       "      <td>Grupo 5</td>\n",
       "      <td>Grupo 5</td>\n",
       "    </tr>\n",
       "    <tr>\n",
       "      <th>5</th>\n",
       "      <td>20.0</td>\n",
       "      <td>9.60</td>\n",
       "      <td>Normais</td>\n",
       "      <td>Normal</td>\n",
       "      <td>Anormal</td>\n",
       "      <td>Normal</td>\n",
       "      <td>Ausente</td>\n",
       "      <td>90</td>\n",
       "      <td>Assintomático</td>\n",
       "      <td>Palpitacao</td>\n",
       "      <td>Masculino</td>\n",
       "      <td>Grupo 5</td>\n",
       "      <td>Grupo 5</td>\n",
       "    </tr>\n",
       "  </tbody>\n",
       "</table>\n",
       "</div>"
      ],
      "text/plain": [
       "     IMC  IDADE   PULSOS            PPA NORMAL X ANORMAL      B2      SOPRO  \\\n",
       "ID                                                                            \n",
       "1   19.0   0.12  Normais  Não Calculado          Anormal  Normal  Sistólico   \n",
       "2   14.0   0.02  Normais  Não Calculado          Anormal  Normal    Ausente   \n",
       "3   16.0   0.01  Normais  Não Calculado          Anormal  Normal  Sistólico   \n",
       "4   19.0   0.50  Normais  Não Calculado          Anormal  Normal    Ausente   \n",
       "5   20.0   9.60  Normais         Normal          Anormal  Normal    Ausente   \n",
       "\n",
       "     FC          HDA 1        HDA2       SEXO  MOTIVO1  MOTIVO2  \n",
       "ID                                                               \n",
       "1   112     Palpitacao  Palpitacao  Masculino  Grupo 6  Grupo 6  \n",
       "2   128       Dispneia  Palpitacao  Masculino  Grupo 6  Grupo 6  \n",
       "3    88  Assintomático  Palpitacao  Masculino  Grupo 2  Grupo 5  \n",
       "4    92  Assintomático  Palpitacao  Masculino  Grupo 5  Grupo 5  \n",
       "5    90  Assintomático  Palpitacao  Masculino  Grupo 5  Grupo 5  "
      ]
     },
     "execution_count": 2,
     "metadata": {},
     "output_type": "execute_result"
    }
   ],
   "source": [
    "data.head()"
   ]
  },
  {
   "cell_type": "code",
   "execution_count": 3,
   "metadata": {},
   "outputs": [
    {
     "data": {
      "text/plain": [
       "IMC                 0\n",
       "IDADE               0\n",
       "PULSOS              0\n",
       "PPA                 0\n",
       "NORMAL X ANORMAL    0\n",
       "B2                  0\n",
       "SOPRO               0\n",
       "FC                  0\n",
       "HDA 1               0\n",
       "HDA2                0\n",
       "SEXO                0\n",
       "MOTIVO1             0\n",
       "MOTIVO2             0\n",
       "dtype: int64"
      ]
     },
     "execution_count": 3,
     "metadata": {},
     "output_type": "execute_result"
    }
   ],
   "source": [
    "# Procura por valores nulos\n",
    "\n",
    "data.isna().sum()"
   ]
  },
  {
   "cell_type": "code",
   "execution_count": 4,
   "metadata": {},
   "outputs": [
    {
     "data": {
      "text/plain": [
       "0"
      ]
     },
     "execution_count": 4,
     "metadata": {},
     "output_type": "execute_result"
    }
   ],
   "source": [
    "# Verifica se há valores duplicados\n",
    "\n",
    "data.duplicated().sum()"
   ]
  },
  {
   "cell_type": "code",
   "execution_count": 5,
   "metadata": {},
   "outputs": [
    {
     "data": {
      "text/plain": [
       "(15843, 13)"
      ]
     },
     "execution_count": 5,
     "metadata": {},
     "output_type": "execute_result"
    }
   ],
   "source": [
    "data.shape"
   ]
  },
  {
   "cell_type": "markdown",
   "metadata": {},
   "source": [
    "# Transformação dos Dados"
   ]
  },
  {
   "cell_type": "markdown",
   "metadata": {},
   "source": [
    "### Dados Quantitativos Discretos"
   ]
  },
  {
   "cell_type": "markdown",
   "metadata": {},
   "source": [
    "#### Variável FC\n",
    "\n",
    "Repare que o FC está como string, mas isso é porque alguns de seus valores são intervalos em vez de um valor discreto próprio. Vamos pegar a média desse intervalo como valor para abstrair todos as observações dessa variável como um dado discreto."
   ]
  },
  {
   "cell_type": "code",
   "execution_count": 6,
   "metadata": {},
   "outputs": [],
   "source": [
    "def pega_media(intervalo):\n",
    "    valores = intervalo.split('-')\n",
    "    \n",
    "    if len(valores) == 1:\n",
    "        aux = valores[0].split(' a ')\n",
    "        if len(aux) > 1:\n",
    "            valores = aux\n",
    "        else:\n",
    "            return int(valores[0])\n",
    "    \n",
    "    valores = [int(x) for x in valores]\n",
    "    \n",
    "    return (valores[0] + valores[1]) / 2"
   ]
  },
  {
   "cell_type": "code",
   "execution_count": 7,
   "metadata": {},
   "outputs": [],
   "source": [
    "# Aplica a função de média para as colunas de intervalo\n",
    "\n",
    "data['FC'] = data['FC'].apply(pega_media)"
   ]
  },
  {
   "cell_type": "code",
   "execution_count": 8,
   "metadata": {},
   "outputs": [
    {
     "data": {
      "text/plain": [
       "count    15843.000000\n",
       "mean        92.912296\n",
       "std        100.318831\n",
       "min          8.000000\n",
       "25%         80.000000\n",
       "50%         90.000000\n",
       "75%        100.000000\n",
       "max       9288.000000\n",
       "Name: FC, dtype: float64"
      ]
     },
     "execution_count": 8,
     "metadata": {},
     "output_type": "execute_result"
    }
   ],
   "source": [
    "data['FC'].describe()"
   ]
  },
  {
   "cell_type": "markdown",
   "metadata": {},
   "source": [
    "Agora podemos visualizar melhor a existência de outliers nesse conjunto de observações. Vamos substituir os outliers pela nossa moda."
   ]
  },
  {
   "cell_type": "code",
   "execution_count": 9,
   "metadata": {},
   "outputs": [
    {
     "data": {
      "text/plain": [
       "<Axes: ylabel='FC'>"
      ]
     },
     "execution_count": 9,
     "metadata": {},
     "output_type": "execute_result"
    },
    {
     "data": {
      "image/png": "[encoded data removed]",
      "text/plain": [
       "<Figure size 640x480 with 1 Axes>"
      ]
     },
     "metadata": {},
     "output_type": "display_data"
    }
   ],
   "source": [
    "import matplotlib.pyplot as plt\n",
    "import seaborn as sns\n",
    "\n",
    "sns.boxplot(data['FC'])"
   ]
  },
  {
   "cell_type": "code",
   "execution_count": 10,
   "metadata": {},
   "outputs": [],
   "source": [
    "# Substitui os valores fora do intervalo de 40 a 300 pela moda\n",
    "\n",
    "moda = data['FC'].mode()[0]\n",
    "data['FC'] = data['FC'].apply(lambda x: x if 40 <= x <= 300 else moda)"
   ]
  },
  {
   "cell_type": "code",
   "execution_count": 11,
   "metadata": {},
   "outputs": [
    {
     "data": {
      "text/plain": [
       "<Axes: xlabel='FC', ylabel='Count'>"
      ]
     },
     "execution_count": 11,
     "metadata": {},
     "output_type": "execute_result"
    },
    {
     "data": {
      "image/png": "[encoded data removed]",
      "text/plain": [
       "<Figure size 640x480 with 1 Axes>"
      ]
     },
     "metadata": {},
     "output_type": "display_data"
    }
   ],
   "source": [
    "sns.histplot(data['FC'])"
   ]
  },
  {
   "cell_type": "markdown",
   "metadata": {},
   "source": [
    "Além dessa transformação, vamos aplicar uma transformação logarítmica para reduzir o impacto dos outliers que não são erros."
   ]
  },
  {
   "cell_type": "code",
   "execution_count": 12,
   "metadata": {},
   "outputs": [
    {
     "data": {
      "text/plain": [
       "<Axes: xlabel='FC', ylabel='Count'>"
      ]
     },
     "execution_count": 12,
     "metadata": {},
     "output_type": "execute_result"
    },
    {
     "data": {
      "image/png": "[encoded data removed]",
      "text/plain": [
       "<Figure size 640x480 with 1 Axes>"
      ]
     },
     "metadata": {},
     "output_type": "display_data"
    }
   ],
   "source": [
    "# Aplica transformação logarítmica em FC\n",
    "\n",
    "data['FC'] = np.log(data['FC'])\n",
    "\n",
    "sns.histplot(data['FC'])"
   ]
  },
  {
   "cell_type": "code",
   "execution_count": 13,
   "metadata": {},
   "outputs": [
    {
     "data": {
      "text/plain": [
       "(15843, 13)"
      ]
     },
     "execution_count": 13,
     "metadata": {},
     "output_type": "execute_result"
    }
   ],
   "source": [
    "data.shape"
   ]
  },
  {
   "cell_type": "markdown",
   "metadata": {},
   "source": [
    "#### Variável Idade\n",
    "\n",
    "Apesar de estar representada como um número flutuante, isso deve se dar pela precisão de meses e dias. Se transformarmos para dias, ainda vamos manter a qualidade de ser um dado discreto."
   ]
  },
  {
   "cell_type": "code",
   "execution_count": 14,
   "metadata": {},
   "outputs": [
    {
     "data": {
      "text/plain": [
       "count    15843.000000\n",
       "mean         6.058433\n",
       "std          4.696743\n",
       "min          0.000000\n",
       "25%          1.840000\n",
       "50%          5.410000\n",
       "75%          9.780000\n",
       "max         18.910000\n",
       "Name: IDADE, dtype: float64"
      ]
     },
     "execution_count": 14,
     "metadata": {},
     "output_type": "execute_result"
    }
   ],
   "source": [
    "data['IDADE'].describe()"
   ]
  },
  {
   "cell_type": "code",
   "execution_count": 15,
   "metadata": {},
   "outputs": [
    {
     "data": {
      "text/plain": [
       "<Axes: ylabel='IDADE'>"
      ]
     },
     "execution_count": 15,
     "metadata": {},
     "output_type": "execute_result"
    },
    {
     "data": {
      "image/png": "[encoded data removed]",
      "text/plain": [
       "<Figure size 640x480 with 1 Axes>"
      ]
     },
     "metadata": {},
     "output_type": "display_data"
    }
   ],
   "source": [
    "sns.boxplot(data['IDADE'])"
   ]
  },
  {
   "cell_type": "code",
   "execution_count": 16,
   "metadata": {},
   "outputs": [
    {
     "data": {
      "text/plain": [
       "<Axes: xlabel='IDADE', ylabel='Count'>"
      ]
     },
     "execution_count": 16,
     "metadata": {},
     "output_type": "execute_result"
    },
    {
     "data": {
      "image/png": "[encoded data removed]",
      "text/plain": [
       "<Figure size 640x480 with 1 Axes>"
      ]
     },
     "metadata": {},
     "output_type": "display_data"
    }
   ],
   "source": [
    "sns.histplot(data['IDADE'])"
   ]
  },
  {
   "cell_type": "markdown",
   "metadata": {},
   "source": [
    "Vamos aplicar uma transformação logarítmica para eliminar essa concentração de valores próximos de 0 e compactar mais esse gráfico."
   ]
  },
  {
   "cell_type": "code",
   "execution_count": 17,
   "metadata": {},
   "outputs": [
    {
     "data": {
      "text/plain": [
       "<Axes: xlabel='IDADE', ylabel='Count'>"
      ]
     },
     "execution_count": 17,
     "metadata": {},
     "output_type": "execute_result"
    },
    {
     "data": {
      "image/png": "[encoded data removed]",
      "text/plain": [
       "<Figure size 640x480 with 1 Axes>"
      ]
     },
     "metadata": {},
     "output_type": "display_data"
    }
   ],
   "source": [
    "# Aplica transformação logarítmica em IDADE\n",
    "\n",
    "data['IDADE'] = np.log(data['IDADE'] + 1) # Somamos +1 para evitar log(0)\n",
    "\n",
    "sns.histplot(data['IDADE'])"
   ]
  },
  {
   "cell_type": "code",
   "execution_count": 18,
   "metadata": {},
   "outputs": [
    {
     "data": {
      "text/plain": [
       "(15843, 13)"
      ]
     },
     "execution_count": 18,
     "metadata": {},
     "output_type": "execute_result"
    }
   ],
   "source": [
    "data.shape"
   ]
  },
  {
   "cell_type": "markdown",
   "metadata": {},
   "source": [
    "### Dados Quantitativos Contínuos"
   ]
  },
  {
   "cell_type": "markdown",
   "metadata": {},
   "source": [
    "#### Variável IMC\n",
    "\n",
    "No IMC temos a informação já abstraída de altura e peso, correlacionados. Como é fruto de uma medição, tratarei como um dado quantitativo contínuo."
   ]
  },
  {
   "cell_type": "code",
   "execution_count": 19,
   "metadata": {},
   "outputs": [
    {
     "data": {
      "text/plain": [
       "<Axes: ylabel='IMC'>"
      ]
     },
     "execution_count": 19,
     "metadata": {},
     "output_type": "execute_result"
    },
    {
     "data": {
      "image/png": "[encoded data removed]",
      "text/plain": [
       "<Figure size 640x480 with 1 Axes>"
      ]
     },
     "metadata": {},
     "output_type": "display_data"
    }
   ],
   "source": [
    "sns.boxplot(data['IMC'])"
   ]
  },
  {
   "cell_type": "code",
   "execution_count": 20,
   "metadata": {},
   "outputs": [
    {
     "data": {
      "text/plain": [
       "<Axes: xlabel='IMC', ylabel='Count'>"
      ]
     },
     "execution_count": 20,
     "metadata": {},
     "output_type": "execute_result"
    },
    {
     "data": {
      "image/png": "[encoded data removed]",
      "text/plain": [
       "<Figure size 640x480 with 1 Axes>"
      ]
     },
     "metadata": {},
     "output_type": "display_data"
    }
   ],
   "source": [
    "sns.histplot(data['IMC'], bins=30)"
   ]
  },
  {
   "cell_type": "markdown",
   "metadata": {},
   "source": [
    "Como podemos observar, se aplicarmos transformação logarítmica cairemos em valores negativos para os dados entre 0 e 1. Para a redução de valores nesse caso irei aplicar raiz quadrada no conjunto de dados, apesar de normalmente ser utilizada para contagem. Dessa forma, o intervalo de 0-100 será reduzido para 0-10."
   ]
  },
  {
   "cell_type": "code",
   "execution_count": 21,
   "metadata": {},
   "outputs": [
    {
     "data": {
      "text/plain": [
       "<Axes: xlabel='IMC', ylabel='Count'>"
      ]
     },
     "execution_count": 21,
     "metadata": {},
     "output_type": "execute_result"
    },
    {
     "data": {
      "image/png": "[encoded data removed]",
      "text/plain": [
       "<Figure size 640x480 with 1 Axes>"
      ]
     },
     "metadata": {},
     "output_type": "display_data"
    }
   ],
   "source": [
    "# Aplica transformação de raiz cúbica em IMC\n",
    "\n",
    "data['IMC'] = np.sqrt(data['IMC'])\n",
    "\n",
    "sns.histplot(data['IMC'], bins=30)"
   ]
  },
  {
   "cell_type": "code",
   "execution_count": 22,
   "metadata": {},
   "outputs": [
    {
     "data": {
      "text/plain": [
       "count    15843.000000\n",
       "mean         4.150636\n",
       "std          0.403049\n",
       "min          0.125310\n",
       "25%          4.000000\n",
       "50%          4.000000\n",
       "75%          4.358899\n",
       "max          9.949874\n",
       "Name: IMC, dtype: float64"
      ]
     },
     "execution_count": 22,
     "metadata": {},
     "output_type": "execute_result"
    }
   ],
   "source": [
    "data['IMC'].describe()"
   ]
  },
  {
   "cell_type": "code",
   "execution_count": 23,
   "metadata": {},
   "outputs": [
    {
     "data": {
      "text/plain": [
       "(15843, 13)"
      ]
     },
     "execution_count": 23,
     "metadata": {},
     "output_type": "execute_result"
    }
   ],
   "source": [
    "data.shape"
   ]
  },
  {
   "cell_type": "markdown",
   "metadata": {},
   "source": [
    "### Dados Qualitativos Ordinais"
   ]
  },
  {
   "cell_type": "markdown",
   "metadata": {},
   "source": [
    "#### Variáveis HDA 1 e HDA 2\n",
    "\n",
    "Vamos antes mudar o nome da coluna \"HDA 1\" para \"HDA1\", afim de facilitar o trabalho depois."
   ]
  },
  {
   "cell_type": "code",
   "execution_count": 24,
   "metadata": {},
   "outputs": [],
   "source": [
    "# Muda o nome da coluna \"HDA 1\" para \"HDA1\" \n",
    "\n",
    "data = data.rename(columns={'HDA 1': 'HDA1'})"
   ]
  },
  {
   "cell_type": "code",
   "execution_count": 25,
   "metadata": {},
   "outputs": [
    {
     "name": "stdout",
     "output_type": "stream",
     "text": [
      "['Palpitacao' 'Dispneia' 'Assintomático' 'Dor precordial'\n",
      " 'Desmaio/tontura' 'Outro' 'Cianose' 'Ganho de peso']\n",
      "\n",
      "['Palpitacao' 'Dispneia' 'Desmaio/tontura' 'Ganho de peso' 'Outro'\n",
      " 'Dor precordial' 'Assintomático' 'Cianose']\n"
     ]
    }
   ],
   "source": [
    "print(data['HDA1'].unique())\n",
    "print()\n",
    "print(data['HDA2'].unique())"
   ]
  },
  {
   "cell_type": "markdown",
   "metadata": {},
   "source": [
    "Apesar de ser um histórico, pode se traçar uma hierarquia entre esses valores dada à urgência de cada um. Portanto, vamos tratar esses dados como qualitativos ordinais."
   ]
  },
  {
   "cell_type": "code",
   "execution_count": 26,
   "metadata": {},
   "outputs": [],
   "source": [
    "# Importando a função de transformação ordinal do scikit-learn\n",
    "from sklearn.preprocessing import OrdinalEncoder\n",
    "\n",
    "ordem = ['Assintomático', 'Palpitacao', 'Dor precordial', 'Ganho de peso', \n",
    "         'Dispneia', 'Desmaio/tontura', 'Cianose', 'Outro']\n",
    "\n",
    "encoder = OrdinalEncoder(categories=[ordem])\n",
    "\n",
    "# Aplica a transformação ordinal nas colunas HDA1 e HDA2\n",
    "data['HDA1'] = encoder.fit_transform(data['HDA1'].values.reshape(-1, 1))\n",
    "data['HDA2'] = encoder.fit_transform(data['HDA2'].values.reshape(-1, 1))"
   ]
  },
  {
   "cell_type": "code",
   "execution_count": 27,
   "metadata": {},
   "outputs": [
    {
     "data": {
      "text/plain": [
       "<Axes: xlabel='HDA1', ylabel='Count'>"
      ]
     },
     "execution_count": 27,
     "metadata": {},
     "output_type": "execute_result"
    },
    {
     "data": {
      "image/png": "[encoded data removed]",
      "text/plain": [
       "<Figure size 640x480 with 1 Axes>"
      ]
     },
     "metadata": {},
     "output_type": "display_data"
    }
   ],
   "source": [
    "sns.histplot(data['HDA1'])"
   ]
  },
  {
   "cell_type": "code",
   "execution_count": 28,
   "metadata": {},
   "outputs": [
    {
     "data": {
      "text/plain": [
       "<Axes: xlabel='HDA2', ylabel='Count'>"
      ]
     },
     "execution_count": 28,
     "metadata": {},
     "output_type": "execute_result"
    },
    {
     "data": {
      "image/png": "[encoded data removed]",
      "text/plain": [
       "<Figure size 640x480 with 1 Axes>"
      ]
     },
     "metadata": {},
     "output_type": "display_data"
    }
   ],
   "source": [
    "sns.histplot(data['HDA2'])"
   ]
  },
  {
   "cell_type": "code",
   "execution_count": 29,
   "metadata": {},
   "outputs": [
    {
     "data": {
      "text/plain": [
       "(15843, 13)"
      ]
     },
     "execution_count": 29,
     "metadata": {},
     "output_type": "execute_result"
    }
   ],
   "source": [
    "data.shape"
   ]
  },
  {
   "cell_type": "markdown",
   "metadata": {},
   "source": [
    "#### Variável PPA\n",
    "\n",
    "A pressão arterial apresenta uma relação de hierarquia, por isso consideramos como dado ordinal. Quanto maior o valor da pressão, seja sistólica ou diastólica, mais danoso é pra todos os órgãos do corpo e ambas, seja sistólica ou diastólica, são parâmetro p/ hipertensão arterial. Algumas pessoas são hipertensas só às custas da sistólica, outras só da diastólica, outras de ambas. Portanto, tratarem a hipertensão PAS e PAD como no mesmo nível, para facilitar a análise."
   ]
  },
  {
   "cell_type": "code",
   "execution_count": 30,
   "metadata": {},
   "outputs": [
    {
     "data": {
      "text/plain": [
       "array(['Não Calculado', 'Normal', 'Pre-Hipertensão PAS', 'HAS-2 PAS',\n",
       "       'Pre-Hipertensão PAD', 'HAS-1 PAS', 'HAS-2 PAD', 'HAS-1 PAD'],\n",
       "      dtype=object)"
      ]
     },
     "execution_count": 30,
     "metadata": {},
     "output_type": "execute_result"
    }
   ],
   "source": [
    "data['PPA'].unique()"
   ]
  },
  {
   "cell_type": "code",
   "execution_count": 31,
   "metadata": {},
   "outputs": [
    {
     "data": {
      "text/plain": [
       "array(['Não Calculado', 'Normal', 'Pre-Hipertensão', 'HAS-2', 'HAS-1'],\n",
       "      dtype=object)"
      ]
     },
     "execution_count": 31,
     "metadata": {},
     "output_type": "execute_result"
    }
   ],
   "source": [
    "# Substitui os valores de \"Pre-Hipertensão PAS\" e \"Pre-Hipertensão PAD\" por \"Pre-Hipertensão\"\n",
    "data['PPA'] = data['PPA'].apply(lambda x: 'Pre-Hipertensão' if 'Pre-Hipertensão' in x else x)\n",
    "\n",
    "# Substitui os valores de \"HAS-1 PAS\" e \"HAS-1 PAD\" por \"HAS-1\"\n",
    "data['PPA'] = data['PPA'].apply(lambda x: 'HAS-1' if 'HAS-1' in x else x)\n",
    "\n",
    "# Substitui os valores de \"HAS-2 PAS\" e \"HAS-2 PAD\" por \"HAS-2\"\n",
    "data['PPA'] = data['PPA'].apply(lambda x: 'HAS-2' if 'HAS-2' in x else x)\n",
    "\n",
    "data['PPA'].unique()"
   ]
  },
  {
   "cell_type": "code",
   "execution_count": 32,
   "metadata": {},
   "outputs": [],
   "source": [
    "ordem = ['Normal', 'Pre-Hipertensão', 'HAS-1', 'HAS-2', 'Não Calculado']\n",
    "\n",
    "encoder = OrdinalEncoder(categories=[ordem])\n",
    "\n",
    "data['PPA'] = encoder.fit_transform(data['PPA'].values.reshape(-1, 1))"
   ]
  },
  {
   "cell_type": "code",
   "execution_count": 33,
   "metadata": {},
   "outputs": [
    {
     "data": {
      "text/plain": [
       "<Axes: xlabel='PPA', ylabel='Count'>"
      ]
     },
     "execution_count": 33,
     "metadata": {},
     "output_type": "execute_result"
    },
    {
     "data": {
      "image/png": "[encoded data removed]",
      "text/plain": [
       "<Figure size 640x480 with 1 Axes>"
      ]
     },
     "metadata": {},
     "output_type": "display_data"
    }
   ],
   "source": [
    "sns.histplot(data['PPA'])"
   ]
  },
  {
   "cell_type": "code",
   "execution_count": 34,
   "metadata": {},
   "outputs": [
    {
     "data": {
      "text/plain": [
       "(15843, 13)"
      ]
     },
     "execution_count": 34,
     "metadata": {},
     "output_type": "execute_result"
    }
   ],
   "source": [
    "data.shape"
   ]
  },
  {
   "cell_type": "markdown",
   "metadata": {},
   "source": [
    "#### Variável PULSOS\n",
    "\n",
    "Apesar de ser uma informação muito vaga, acredito que possamos criar uma relação de hierarquia para a pulsação também. Se houvesse mais informações, poderíamos ter certeza sobre isso, já que em algumas doenças (por exemplo uma trombose em veia da perna) um pulso pode estar isoladamente reduzido (por causa do trombo). Nesse caso, vou considerar que essa pulsação é geral."
   ]
  },
  {
   "cell_type": "code",
   "execution_count": 35,
   "metadata": {},
   "outputs": [
    {
     "data": {
      "text/plain": [
       "array(['Normais', 'Outro', 'Amplos', 'Femorais diminuidos', 'Diminuídos '],\n",
       "      dtype=object)"
      ]
     },
     "execution_count": 35,
     "metadata": {},
     "output_type": "execute_result"
    }
   ],
   "source": [
    "data['PULSOS'].unique()"
   ]
  },
  {
   "cell_type": "code",
   "execution_count": 36,
   "metadata": {},
   "outputs": [
    {
     "data": {
      "text/plain": [
       "<Axes: xlabel='PULSOS', ylabel='Count'>"
      ]
     },
     "execution_count": 36,
     "metadata": {},
     "output_type": "execute_result"
    },
    {
     "data": {
      "image/png": "[encoded data removed]",
      "text/plain": [
       "<Figure size 640x480 with 1 Axes>"
      ]
     },
     "metadata": {},
     "output_type": "display_data"
    }
   ],
   "source": [
    "ordem = ['Normais', 'Amplos', 'Diminuídos ', 'Femorais diminuidos', 'Outro']\n",
    "\n",
    "encoder = OrdinalEncoder(categories=[ordem])\n",
    "\n",
    "data['PULSOS'] = encoder.fit_transform(data['PULSOS'].values.reshape(-1, 1))\n",
    "\n",
    "sns.histplot(data['PULSOS'])"
   ]
  },
  {
   "cell_type": "code",
   "execution_count": 37,
   "metadata": {},
   "outputs": [
    {
     "data": {
      "text/plain": [
       "(15843, 13)"
      ]
     },
     "execution_count": 37,
     "metadata": {},
     "output_type": "execute_result"
    }
   ],
   "source": [
    "data.shape"
   ]
  },
  {
   "cell_type": "markdown",
   "metadata": {},
   "source": [
    "#### Variável B2\n",
    "\n",
    "Novamente, podemos tentar estabelecer uma relação de hierarquia."
   ]
  },
  {
   "cell_type": "code",
   "execution_count": 38,
   "metadata": {},
   "outputs": [
    {
     "data": {
      "text/plain": [
       "array(['Normal', 'Desdob fixo', 'Outro', 'Hiperfonética', 'Única'],\n",
       "      dtype=object)"
      ]
     },
     "execution_count": 38,
     "metadata": {},
     "output_type": "execute_result"
    }
   ],
   "source": [
    "data['B2'].unique()"
   ]
  },
  {
   "cell_type": "code",
   "execution_count": 39,
   "metadata": {},
   "outputs": [
    {
     "data": {
      "text/plain": [
       "<Axes: xlabel='B2', ylabel='Count'>"
      ]
     },
     "execution_count": 39,
     "metadata": {},
     "output_type": "execute_result"
    },
    {
     "data": {
      "image/png": "[encoded data removed]",
      "text/plain": [
       "<Figure size 640x480 with 1 Axes>"
      ]
     },
     "metadata": {},
     "output_type": "display_data"
    }
   ],
   "source": [
    "ordem = ['Normal', 'Hiperfonética', 'Desdob fixo', 'Única', 'Outro']\n",
    "\n",
    "encoder = OrdinalEncoder(categories=[ordem])\n",
    "\n",
    "data['B2'] = encoder.fit_transform(data['B2'].values.reshape(-1, 1))\n",
    "\n",
    "sns.histplot(data['B2'])"
   ]
  },
  {
   "cell_type": "code",
   "execution_count": 40,
   "metadata": {},
   "outputs": [
    {
     "data": {
      "text/plain": [
       "(15843, 13)"
      ]
     },
     "execution_count": 40,
     "metadata": {},
     "output_type": "execute_result"
    }
   ],
   "source": [
    "data.shape"
   ]
  },
  {
   "cell_type": "markdown",
   "metadata": {},
   "source": [
    "### Dados Qualitativos Nominais"
   ]
  },
  {
   "cell_type": "markdown",
   "metadata": {},
   "source": [
    "#### Variável SOPRO\n",
    "\n",
    "Para esse tipo de dado, vamos aplicar o OneHotEncoder que criará um label para cada observação única e depois faremos um pós-tratamento."
   ]
  },
  {
   "cell_type": "code",
   "execution_count": 41,
   "metadata": {},
   "outputs": [
    {
     "data": {
      "text/plain": [
       "array(['Sistólico', 'Ausente', 'Contínuo', 'Diastólico',\n",
       "       'Sistolico e diastólico'], dtype=object)"
      ]
     },
     "execution_count": 41,
     "metadata": {},
     "output_type": "execute_result"
    }
   ],
   "source": [
    "data['SOPRO'].unique()"
   ]
  },
  {
   "cell_type": "code",
   "execution_count": 42,
   "metadata": {},
   "outputs": [
    {
     "data": {
      "text/plain": [
       "(15843, 13)"
      ]
     },
     "execution_count": 42,
     "metadata": {},
     "output_type": "execute_result"
    }
   ],
   "source": [
    "data.shape"
   ]
  },
  {
   "cell_type": "code",
   "execution_count": 43,
   "metadata": {},
   "outputs": [],
   "source": [
    "# Importando a função de transformação binária do scikit-learn\n",
    "from sklearn.preprocessing import OneHotEncoder\n",
    "\n",
    "encoder = OneHotEncoder()\n",
    "\n",
    "# Aplica a transformação na coluna SOPRO\n",
    "sopro = encoder.fit_transform(data['SOPRO'].values.reshape(-1, 1)).toarray()\n",
    "sopro = pd.DataFrame(sopro, columns=encoder.categories_[0])\n",
    "data = data.join(sopro)\n",
    "\n",
    "data = data.drop('SOPRO', axis=1)"
   ]
  },
  {
   "cell_type": "code",
   "execution_count": 44,
   "metadata": {},
   "outputs": [
    {
     "data": {
      "text/plain": [
       "(15843, 17)"
      ]
     },
     "execution_count": 44,
     "metadata": {},
     "output_type": "execute_result"
    }
   ],
   "source": [
    "data.shape"
   ]
  },
  {
   "cell_type": "code",
   "execution_count": 45,
   "metadata": {},
   "outputs": [
    {
     "data": {
      "text/plain": [
       "Index(['IMC', 'IDADE', 'PULSOS', 'PPA', 'NORMAL X ANORMAL', 'B2', 'FC', 'HDA1',\n",
       "       'HDA2', 'SEXO', 'MOTIVO1', 'MOTIVO2', 'Ausente', 'Contínuo',\n",
       "       'Diastólico', 'Sistolico e diastólico', 'Sistólico'],\n",
       "      dtype='object')"
      ]
     },
     "execution_count": 45,
     "metadata": {},
     "output_type": "execute_result"
    }
   ],
   "source": [
    "data.columns"
   ]
  },
  {
   "cell_type": "markdown",
   "metadata": {},
   "source": [
    "Agora vamos eliminar a coluna 'Sistolico e diastólico' e marcar em cada um dos labels se 1 para 'Sistolico e diastólico' então 1 para Sistolico e 1 para Diastolico."
   ]
  },
  {
   "cell_type": "code",
   "execution_count": 46,
   "metadata": {},
   "outputs": [],
   "source": [
    "# Marca 1 para a coluna 'Diastólico' se a coluna 'Sistolico e diastólico' for 1, se não deixa o valor que estava\n",
    "data.loc[data['Sistolico e diastólico'] == 1, 'Diastólico'] = 1\n",
    "\n",
    "# Marca 1 para a coluna 'Sistólico' se a coluna 'Sistolico e diastólico' for 1, se não deixa o valor que estava\n",
    "data.loc[data['Sistolico e diastólico'] == 1, 'Sistólico'] = 1\n",
    "\n",
    "data = data.drop('Sistolico e diastólico', axis=1)"
   ]
  },
  {
   "cell_type": "code",
   "execution_count": 47,
   "metadata": {},
   "outputs": [
    {
     "data": {
      "text/plain": [
       "(15843, 16)"
      ]
     },
     "execution_count": 47,
     "metadata": {},
     "output_type": "execute_result"
    }
   ],
   "source": [
    "data.shape"
   ]
  },
  {
   "cell_type": "code",
   "execution_count": 48,
   "metadata": {},
   "outputs": [
    {
     "data": {
      "text/plain": [
       "Index(['IMC', 'IDADE', 'PULSOS', 'PPA', 'NORMAL X ANORMAL', 'B2', 'FC', 'HDA1',\n",
       "       'HDA2', 'SEXO', 'MOTIVO1', 'MOTIVO2', 'Ausente', 'Contínuo',\n",
       "       'Diastólico', 'Sistólico'],\n",
       "      dtype='object')"
      ]
     },
     "execution_count": 48,
     "metadata": {},
     "output_type": "execute_result"
    }
   ],
   "source": [
    "data.columns"
   ]
  },
  {
   "cell_type": "markdown",
   "metadata": {},
   "source": [
    "#### Variável MOTIVO1 e MOTIVO2\n",
    "\n",
    "Vamos, também, aplicar o OneHotEncoder para essas duas variáveis."
   ]
  },
  {
   "cell_type": "code",
   "execution_count": 49,
   "metadata": {},
   "outputs": [
    {
     "name": "stdout",
     "output_type": "stream",
     "text": [
      "['Grupo 6' 'Grupo 2' 'Grupo 5' 'Grupo 1' 'Grupo 7']\n",
      "\n",
      "['Grupo 6' 'Grupo 5' 'Grupo 1']\n"
     ]
    }
   ],
   "source": [
    "print(data['MOTIVO1'].unique())\n",
    "print()\n",
    "print(data['MOTIVO2'].unique())"
   ]
  },
  {
   "cell_type": "code",
   "execution_count": 50,
   "metadata": {},
   "outputs": [
    {
     "data": {
      "text/plain": [
       "(15843, 16)"
      ]
     },
     "execution_count": 50,
     "metadata": {},
     "output_type": "execute_result"
    }
   ],
   "source": [
    "data.shape"
   ]
  },
  {
   "cell_type": "code",
   "execution_count": 51,
   "metadata": {},
   "outputs": [],
   "source": [
    "# Aplica o OneHotEncoder nas colunas MOTIVO1 e MOTIVO2\n",
    "\n",
    "motivo1 = encoder.fit_transform(data['MOTIVO1'].values.reshape(-1, 1)).toarray()\n",
    "motivo1 = pd.DataFrame(motivo1, columns=encoder.categories_[0])\n",
    "data = data.join(motivo1, lsuffix='_motivo1')\n",
    "\n",
    "motivo2 = encoder.fit_transform(data['MOTIVO2'].values.reshape(-1, 1)).toarray()\n",
    "motivo2 = pd.DataFrame(motivo2, columns=encoder.categories_[0])\n",
    "data = data.join(motivo2, lsuffix='_motivo2')\n",
    "\n",
    "data = data.drop(columns=['MOTIVO1', 'MOTIVO2'])"
   ]
  },
  {
   "cell_type": "code",
   "execution_count": 52,
   "metadata": {},
   "outputs": [
    {
     "data": {
      "text/plain": [
       "(15843, 22)"
      ]
     },
     "execution_count": 52,
     "metadata": {},
     "output_type": "execute_result"
    }
   ],
   "source": [
    "data.shape"
   ]
  },
  {
   "cell_type": "code",
   "execution_count": 53,
   "metadata": {},
   "outputs": [
    {
     "data": {
      "text/plain": [
       "Index(['IMC', 'IDADE', 'PULSOS', 'PPA', 'NORMAL X ANORMAL', 'B2', 'FC', 'HDA1',\n",
       "       'HDA2', 'SEXO', 'Ausente', 'Contínuo', 'Diastólico', 'Sistólico',\n",
       "       'Grupo 1_motivo2', 'Grupo 2', 'Grupo 5_motivo2', 'Grupo 6_motivo2',\n",
       "       'Grupo 7', 'Grupo 1', 'Grupo 5', 'Grupo 6'],\n",
       "      dtype='object')"
      ]
     },
     "execution_count": 53,
     "metadata": {},
     "output_type": "execute_result"
    }
   ],
   "source": [
    "data.columns"
   ]
  },
  {
   "cell_type": "markdown",
   "metadata": {},
   "source": [
    "#### Variável SEXO\n",
    "\n",
    "A partir de agora, vamos aplicar apenas o LabelEncoder que classifica sem ordem."
   ]
  },
  {
   "cell_type": "code",
   "execution_count": 54,
   "metadata": {},
   "outputs": [
    {
     "data": {
      "text/plain": [
       "array(['Masculino', 'Feminino', 'Indeterminado'], dtype=object)"
      ]
     },
     "execution_count": 54,
     "metadata": {},
     "output_type": "execute_result"
    }
   ],
   "source": [
    "data['SEXO'].unique()"
   ]
  },
  {
   "cell_type": "code",
   "execution_count": 55,
   "metadata": {},
   "outputs": [
    {
     "data": {
      "text/plain": [
       "array([2, 0, 1])"
      ]
     },
     "execution_count": 55,
     "metadata": {},
     "output_type": "execute_result"
    }
   ],
   "source": [
    "# Importando a função de transformação de scikit-learn\n",
    "from sklearn.preprocessing import LabelEncoder\n",
    "\n",
    "encoder = LabelEncoder()\n",
    "\n",
    "# Aplica a transformação na coluna SEXO\n",
    "\n",
    "data['SEXO'] = encoder.fit_transform(data['SEXO'])\n",
    "\n",
    "data['SEXO'].unique()"
   ]
  },
  {
   "cell_type": "markdown",
   "metadata": {},
   "source": [
    "#### Variável NORMAL X ANORMAL\n",
    "\n",
    "Por se tratar do nosso label, obviamente vamos aplicar o LabelEncoder."
   ]
  },
  {
   "cell_type": "code",
   "execution_count": 56,
   "metadata": {},
   "outputs": [
    {
     "data": {
      "text/plain": [
       "array(['Anormal', 'Normal'], dtype=object)"
      ]
     },
     "execution_count": 56,
     "metadata": {},
     "output_type": "execute_result"
    }
   ],
   "source": [
    "data['NORMAL X ANORMAL'].unique()"
   ]
  },
  {
   "cell_type": "code",
   "execution_count": 57,
   "metadata": {},
   "outputs": [
    {
     "data": {
      "text/plain": [
       "array([0, 1])"
      ]
     },
     "execution_count": 57,
     "metadata": {},
     "output_type": "execute_result"
    }
   ],
   "source": [
    "encoder = LabelEncoder()\n",
    "\n",
    "data['NORMAL X ANORMAL'] = encoder.fit_transform(data['NORMAL X ANORMAL'])\n",
    "\n",
    "data['NORMAL X ANORMAL'].unique()"
   ]
  },
  {
   "cell_type": "markdown",
   "metadata": {},
   "source": [
    "## Salvando os dados "
   ]
  },
  {
   "cell_type": "code",
   "execution_count": 58,
   "metadata": {},
   "outputs": [],
   "source": [
    "# Salva os dados como \"UCMF_preprocessado.csv\"\n",
    "\n",
    "data.to_csv('data/UCMF_preprocessado.csv')"
   ]
  }
 ],
 "metadata": {
  "kernelspec": {
   "display_name": "Python 3",
   "language": "python",
   "name": "python3"
  },
  "language_info": {
   "codemirror_mode": {
    "name": "ipython",
    "version": 3
   },
   "file_extension": ".py",
   "mimetype": "text/x-python",
   "name": "python",
   "nbconvert_exporter": "python",
   "pygments_lexer": "ipython3",
   "version": "3.11.5"
  }
 },
 "nbformat": 4,
 "nbformat_minor": 2
}
