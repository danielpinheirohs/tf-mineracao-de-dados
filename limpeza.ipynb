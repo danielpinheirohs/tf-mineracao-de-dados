{
 "cells": [
  {
   "cell_type": "code",
   "execution_count": 3,
   "metadata": {},
   "outputs": [],
   "source": [
    "import pandas as pd\n",
    "import numpy as np\n",
    "\n",
    "data = pd.read_csv('data/UCMF.csv')\n",
    "data.index = data['ID']\n",
    "data = data.drop('ID', axis=1)"
   ]
  },
  {
   "cell_type": "code",
   "execution_count": 4,
   "metadata": {},
   "outputs": [
    {
     "data": {
      "text/html": [
       "<div>\n",
       "<style scoped>\n",
       "    .dataframe tbody tr th:only-of-type {\n",
       "        vertical-align: middle;\n",
       "    }\n",
       "\n",
       "    .dataframe tbody tr th {\n",
       "        vertical-align: top;\n",
       "    }\n",
       "\n",
       "    .dataframe thead th {\n",
       "        text-align: right;\n",
       "    }\n",
       "</style>\n",
       "<table border=\"1\" class=\"dataframe\">\n",
       "  <thead>\n",
       "    <tr style=\"text-align: right;\">\n",
       "      <th></th>\n",
       "      <th>Peso</th>\n",
       "      <th>Altura</th>\n",
       "      <th>IMC</th>\n",
       "      <th>Atendimento</th>\n",
       "      <th>DN</th>\n",
       "      <th>IDADE</th>\n",
       "      <th>Convenio</th>\n",
       "      <th>PULSOS</th>\n",
       "      <th>PA SISTOLICA</th>\n",
       "      <th>PA DIASTOLICA</th>\n",
       "      <th>PPA</th>\n",
       "      <th>NORMAL X ANORMAL</th>\n",
       "      <th>B2</th>\n",
       "      <th>SOPRO</th>\n",
       "      <th>FC</th>\n",
       "      <th>HDA 1</th>\n",
       "      <th>HDA2</th>\n",
       "      <th>SEXO</th>\n",
       "      <th>MOTIVO1</th>\n",
       "      <th>MOTIVO2</th>\n",
       "    </tr>\n",
       "    <tr>\n",
       "      <th>ID</th>\n",
       "      <th></th>\n",
       "      <th></th>\n",
       "      <th></th>\n",
       "      <th></th>\n",
       "      <th></th>\n",
       "      <th></th>\n",
       "      <th></th>\n",
       "      <th></th>\n",
       "      <th></th>\n",
       "      <th></th>\n",
       "      <th></th>\n",
       "      <th></th>\n",
       "      <th></th>\n",
       "      <th></th>\n",
       "      <th></th>\n",
       "      <th></th>\n",
       "      <th></th>\n",
       "      <th></th>\n",
       "      <th></th>\n",
       "      <th></th>\n",
       "    </tr>\n",
       "  </thead>\n",
       "  <tbody>\n",
       "    <tr>\n",
       "      <th>1</th>\n",
       "      <td>5.0</td>\n",
       "      <td>51</td>\n",
       "      <td>19.0</td>\n",
       "      <td>11/05/06</td>\n",
       "      <td>30/03/06</td>\n",
       "      <td>0.12</td>\n",
       "      <td>GS</td>\n",
       "      <td>Normais</td>\n",
       "      <td>NaN</td>\n",
       "      <td>NaN</td>\n",
       "      <td>Não Calculado</td>\n",
       "      <td>Anormal</td>\n",
       "      <td>Normal</td>\n",
       "      <td>Sistólico</td>\n",
       "      <td>112</td>\n",
       "      <td>Palpitacao</td>\n",
       "      <td>NaN</td>\n",
       "      <td>M</td>\n",
       "      <td>6 - Suspeita de cardiopatia</td>\n",
       "      <td>6 - Palpitação/taquicardia/arritmia</td>\n",
       "    </tr>\n",
       "    <tr>\n",
       "      <th>2</th>\n",
       "      <td>3.5</td>\n",
       "      <td>50</td>\n",
       "      <td>14.0</td>\n",
       "      <td>25/05/05</td>\n",
       "      <td>19/05/05</td>\n",
       "      <td>0.02</td>\n",
       "      <td>GS</td>\n",
       "      <td>Normais</td>\n",
       "      <td>NaN</td>\n",
       "      <td>NaN</td>\n",
       "      <td>Não Calculado</td>\n",
       "      <td>Anormal</td>\n",
       "      <td>Normal</td>\n",
       "      <td>ausente</td>\n",
       "      <td>128</td>\n",
       "      <td>Dispneia</td>\n",
       "      <td>NaN</td>\n",
       "      <td>M</td>\n",
       "      <td>6 - Suspeita de cardiopatia</td>\n",
       "      <td>6 - Dispnéia</td>\n",
       "    </tr>\n",
       "    <tr>\n",
       "      <th>3</th>\n",
       "      <td>0.0</td>\n",
       "      <td>0</td>\n",
       "      <td>NaN</td>\n",
       "      <td>12/06/01</td>\n",
       "      <td>08/05/05</td>\n",
       "      <td>-4.05</td>\n",
       "      <td>SULA</td>\n",
       "      <td>Normais</td>\n",
       "      <td>NaN</td>\n",
       "      <td>NaN</td>\n",
       "      <td>Não Calculado</td>\n",
       "      <td>Anormal</td>\n",
       "      <td>Normal</td>\n",
       "      <td>Sistólico</td>\n",
       "      <td>88</td>\n",
       "      <td>Assintomático</td>\n",
       "      <td>NaN</td>\n",
       "      <td>M</td>\n",
       "      <td>2 - Check-up</td>\n",
       "      <td>NaN</td>\n",
       "    </tr>\n",
       "    <tr>\n",
       "      <th>4</th>\n",
       "      <td>8.1</td>\n",
       "      <td>65</td>\n",
       "      <td>19.0</td>\n",
       "      <td>15/10/09</td>\n",
       "      <td>21/04/09</td>\n",
       "      <td>0.5</td>\n",
       "      <td>NaN</td>\n",
       "      <td>Normais</td>\n",
       "      <td>NaN</td>\n",
       "      <td>NaN</td>\n",
       "      <td>Não Calculado</td>\n",
       "      <td>Anormal</td>\n",
       "      <td>Normal</td>\n",
       "      <td>ausente</td>\n",
       "      <td>92</td>\n",
       "      <td>Assintomático</td>\n",
       "      <td>NaN</td>\n",
       "      <td>M</td>\n",
       "      <td>5 - Parecer cardiológico</td>\n",
       "      <td>NaN</td>\n",
       "    </tr>\n",
       "    <tr>\n",
       "      <th>5</th>\n",
       "      <td>39.5</td>\n",
       "      <td>142</td>\n",
       "      <td>20.0</td>\n",
       "      <td>23/01/09</td>\n",
       "      <td>24/10/99</td>\n",
       "      <td>9.6</td>\n",
       "      <td>Sulam</td>\n",
       "      <td>Normais</td>\n",
       "      <td>85.0</td>\n",
       "      <td>50.0</td>\n",
       "      <td>Normal</td>\n",
       "      <td>Anormal</td>\n",
       "      <td>Normal</td>\n",
       "      <td>ausente</td>\n",
       "      <td>90</td>\n",
       "      <td>NaN</td>\n",
       "      <td>NaN</td>\n",
       "      <td>M</td>\n",
       "      <td>5 - Parecer cardiológico</td>\n",
       "      <td>5 - Atividade física</td>\n",
       "    </tr>\n",
       "  </tbody>\n",
       "</table>\n",
       "</div>"
      ],
      "text/plain": [
       "    Peso  Altura   IMC Atendimento        DN  IDADE Convenio   PULSOS  \\\n",
       "ID                                                                      \n",
       "1    5.0      51  19.0    11/05/06  30/03/06   0.12       GS  Normais   \n",
       "2    3.5      50  14.0    25/05/05  19/05/05   0.02       GS  Normais   \n",
       "3    0.0       0   NaN    12/06/01  08/05/05  -4.05     SULA  Normais   \n",
       "4    8.1      65  19.0    15/10/09  21/04/09    0.5      NaN  Normais   \n",
       "5   39.5     142  20.0    23/01/09  24/10/99    9.6    Sulam  Normais   \n",
       "\n",
       "    PA SISTOLICA  PA DIASTOLICA            PPA NORMAL X ANORMAL      B2  \\\n",
       "ID                                                                        \n",
       "1            NaN            NaN  Não Calculado          Anormal  Normal   \n",
       "2            NaN            NaN  Não Calculado          Anormal  Normal   \n",
       "3            NaN            NaN  Não Calculado          Anormal  Normal   \n",
       "4            NaN            NaN  Não Calculado          Anormal  Normal   \n",
       "5           85.0           50.0         Normal          Anormal  Normal   \n",
       "\n",
       "        SOPRO   FC          HDA 1 HDA2 SEXO                      MOTIVO1  \\\n",
       "ID                                                                         \n",
       "1   Sistólico  112     Palpitacao  NaN    M  6 - Suspeita de cardiopatia   \n",
       "2     ausente  128       Dispneia  NaN    M  6 - Suspeita de cardiopatia   \n",
       "3   Sistólico   88  Assintomático  NaN    M                 2 - Check-up   \n",
       "4     ausente   92  Assintomático  NaN    M     5 - Parecer cardiológico   \n",
       "5     ausente   90            NaN  NaN    M     5 - Parecer cardiológico   \n",
       "\n",
       "                                MOTIVO2  \n",
       "ID                                       \n",
       "1   6 - Palpitação/taquicardia/arritmia  \n",
       "2                          6 - Dispnéia  \n",
       "3                                   NaN  \n",
       "4                                   NaN  \n",
       "5                  5 - Atividade física  "
      ]
     },
     "execution_count": 4,
     "metadata": {},
     "output_type": "execute_result"
    }
   ],
   "source": [
    "data.head()"
   ]
  },
  {
   "cell_type": "markdown",
   "metadata": {},
   "source": [
    "## Descrição dos dados quantitativos"
   ]
  },
  {
   "cell_type": "code",
   "execution_count": 5,
   "metadata": {},
   "outputs": [
    {
     "data": {
      "text/html": [
       "<div>\n",
       "<style scoped>\n",
       "    .dataframe tbody tr th:only-of-type {\n",
       "        vertical-align: middle;\n",
       "    }\n",
       "\n",
       "    .dataframe tbody tr th {\n",
       "        vertical-align: top;\n",
       "    }\n",
       "\n",
       "    .dataframe thead th {\n",
       "        text-align: right;\n",
       "    }\n",
       "</style>\n",
       "<table border=\"1\" class=\"dataframe\">\n",
       "  <thead>\n",
       "    <tr style=\"text-align: right;\">\n",
       "      <th></th>\n",
       "      <th>Peso</th>\n",
       "      <th>Altura</th>\n",
       "      <th>IMC</th>\n",
       "      <th>PA SISTOLICA</th>\n",
       "      <th>PA DIASTOLICA</th>\n",
       "    </tr>\n",
       "  </thead>\n",
       "  <tbody>\n",
       "    <tr>\n",
       "      <th>count</th>\n",
       "      <td>17555.000000</td>\n",
       "      <td>17873.000000</td>\n",
       "      <td>13146.000000</td>\n",
       "      <td>10143.000000</td>\n",
       "      <td>10133.000000</td>\n",
       "    </tr>\n",
       "    <tr>\n",
       "      <th>mean</th>\n",
       "      <td>21.163520</td>\n",
       "      <td>83.865216</td>\n",
       "      <td>17.806329</td>\n",
       "      <td>101.314108</td>\n",
       "      <td>62.303661</td>\n",
       "    </tr>\n",
       "    <tr>\n",
       "      <th>std</th>\n",
       "      <td>18.061021</td>\n",
       "      <td>56.583610</td>\n",
       "      <td>12.071950</td>\n",
       "      <td>15.510066</td>\n",
       "      <td>8.885555</td>\n",
       "    </tr>\n",
       "    <tr>\n",
       "      <th>min</th>\n",
       "      <td>-40.000000</td>\n",
       "      <td>0.000000</td>\n",
       "      <td>0.000000</td>\n",
       "      <td>10.000000</td>\n",
       "      <td>6.000000</td>\n",
       "    </tr>\n",
       "    <tr>\n",
       "      <th>25%</th>\n",
       "      <td>6.600000</td>\n",
       "      <td>36.000000</td>\n",
       "      <td>15.000000</td>\n",
       "      <td>90.000000</td>\n",
       "      <td>60.000000</td>\n",
       "    </tr>\n",
       "    <tr>\n",
       "      <th>50%</th>\n",
       "      <td>18.000000</td>\n",
       "      <td>99.000000</td>\n",
       "      <td>17.000000</td>\n",
       "      <td>100.000000</td>\n",
       "      <td>60.000000</td>\n",
       "    </tr>\n",
       "    <tr>\n",
       "      <th>75%</th>\n",
       "      <td>31.000000</td>\n",
       "      <td>130.000000</td>\n",
       "      <td>19.000000</td>\n",
       "      <td>110.000000</td>\n",
       "      <td>70.000000</td>\n",
       "    </tr>\n",
       "    <tr>\n",
       "      <th>max</th>\n",
       "      <td>157.000000</td>\n",
       "      <td>198.000000</td>\n",
       "      <td>848.000000</td>\n",
       "      <td>990.000000</td>\n",
       "      <td>120.000000</td>\n",
       "    </tr>\n",
       "  </tbody>\n",
       "</table>\n",
       "</div>"
      ],
      "text/plain": [
       "               Peso        Altura           IMC  PA SISTOLICA  PA DIASTOLICA\n",
       "count  17555.000000  17873.000000  13146.000000  10143.000000   10133.000000\n",
       "mean      21.163520     83.865216     17.806329    101.314108      62.303661\n",
       "std       18.061021     56.583610     12.071950     15.510066       8.885555\n",
       "min      -40.000000      0.000000      0.000000     10.000000       6.000000\n",
       "25%        6.600000     36.000000     15.000000     90.000000      60.000000\n",
       "50%       18.000000     99.000000     17.000000    100.000000      60.000000\n",
       "75%       31.000000    130.000000     19.000000    110.000000      70.000000\n",
       "max      157.000000    198.000000    848.000000    990.000000     120.000000"
      ]
     },
     "execution_count": 5,
     "metadata": {},
     "output_type": "execute_result"
    }
   ],
   "source": [
    "data.describe()"
   ]
  },
  {
   "cell_type": "markdown",
   "metadata": {},
   "source": [
    "# Limpeza dos Dados"
   ]
  },
  {
   "cell_type": "markdown",
   "metadata": {},
   "source": [
    "## Análise do Peso"
   ]
  },
  {
   "cell_type": "code",
   "execution_count": 6,
   "metadata": {},
   "outputs": [
    {
     "data": {
      "text/plain": [
       "<Axes: xlabel='Peso', ylabel='Count'>"
      ]
     },
     "execution_count": 6,
     "metadata": {},
     "output_type": "execute_result"
    },
    {
     "data": {
      "image/png": "[encoded data removed]",
      "text/plain": [
       "<Figure size 1000x1000 with 1 Axes>"
      ]
     },
     "metadata": {},
     "output_type": "display_data"
    }
   ],
   "source": [
    "import seaborn as sns\n",
    "import matplotlib.pyplot as plt\n",
    "\n",
    "plt.figure(figsize=(10, 10))\n",
    "sns.histplot(data['Peso'], bins=30, kde=True)"
   ]
  },
  {
   "cell_type": "markdown",
   "metadata": {},
   "source": [
    "Temos valores de peso negativo, que indica claramente um erro. Vamos verificar esses valores e descobrir como vamos tratar."
   ]
  },
  {
   "cell_type": "code",
   "execution_count": 7,
   "metadata": {},
   "outputs": [
    {
     "data": {
      "text/plain": [
       "ID\n",
       "3        0.0\n",
       "16       0.0\n",
       "26       0.0\n",
       "49       0.0\n",
       "65       0.0\n",
       "        ... \n",
       "17838    0.0\n",
       "17840    0.0\n",
       "17844    0.0\n",
       "17849    0.0\n",
       "17856    0.0\n",
       "Name: Peso, Length: 2610, dtype: float64"
      ]
     },
     "execution_count": 7,
     "metadata": {},
     "output_type": "execute_result"
    }
   ],
   "source": [
    "# Cria uma série apenas com os valores igual ou abaixo de 0 de PESO\n",
    "\n",
    "serie = data['Peso'][data['Peso'] <= 0]\n",
    "\n",
    "serie"
   ]
  },
  {
   "cell_type": "code",
   "execution_count": 8,
   "metadata": {},
   "outputs": [
    {
     "data": {
      "text/plain": [
       "ID\n",
       "13629   -40.0\n",
       "Name: Peso, dtype: float64"
      ]
     },
     "execution_count": 8,
     "metadata": {},
     "output_type": "execute_result"
    }
   ],
   "source": [
    "serie = data['Peso'][data['Peso'] < 0]\n",
    "\n",
    "serie"
   ]
  },
  {
   "cell_type": "markdown",
   "metadata": {},
   "source": [
    "Enquanto os valores de 0 pode ser de algum erro de precisão (talvez ao pesar uma criança recém-nascida), o único valor negativo é um erro de entrada que estarei retirando do conjunto de dados."
   ]
  },
  {
   "cell_type": "code",
   "execution_count": 9,
   "metadata": {},
   "outputs": [],
   "source": [
    "# Remove os valores abaixo de 0 em Peso\n",
    "\n",
    "data = data[data['Peso'] >= 0]"
   ]
  },
  {
   "cell_type": "markdown",
   "metadata": {},
   "source": [
    "Vamos procurar correlacionar o peso com a altura, para verificar se é falta de coleta de dados ou apenas erro de precisão."
   ]
  },
  {
   "cell_type": "code",
   "execution_count": 10,
   "metadata": {},
   "outputs": [
    {
     "data": {
      "text/plain": [
       "count    109.000000\n",
       "mean     109.513761\n",
       "std       34.734606\n",
       "min       12.000000\n",
       "25%       90.000000\n",
       "50%      110.000000\n",
       "75%      136.000000\n",
       "max      180.000000\n",
       "Name: Altura, dtype: float64"
      ]
     },
     "execution_count": 10,
     "metadata": {},
     "output_type": "execute_result"
    }
   ],
   "source": [
    "serie = data['Altura'][data['Peso'] == 0][data['Altura'] > 0]\n",
    "\n",
    "serie.describe()"
   ]
  },
  {
   "cell_type": "markdown",
   "metadata": {},
   "source": [
    "Dado que há vários valores de altura igual a 0 relacionados ao Peso 0 e como os valores não nulos variam entre 12 e 180cm, será considerado como dado não coletado e, portanto, será marcado como NaN. Para o caso do peso perderíamos muitos dados e como temos a variável IMC, podemos na análise do modelo descartar Peso e Altura e usar apenas o IMC."
   ]
  },
  {
   "cell_type": "markdown",
   "metadata": {},
   "source": [
    "## Análise da Altura"
   ]
  },
  {
   "cell_type": "code",
   "execution_count": 11,
   "metadata": {},
   "outputs": [
    {
     "data": {
      "text/plain": [
       "<Axes: xlabel='Altura', ylabel='Count'>"
      ]
     },
     "execution_count": 11,
     "metadata": {},
     "output_type": "execute_result"
    },
    {
     "data": {
      "image/png": "[encoded data removed]",
      "text/plain": [
       "<Figure size 640x480 with 1 Axes>"
      ]
     },
     "metadata": {},
     "output_type": "display_data"
    }
   ],
   "source": [
    "sns.histplot(data['Altura'], bins=30, kde=True)"
   ]
  },
  {
   "cell_type": "code",
   "execution_count": 12,
   "metadata": {},
   "outputs": [
    {
     "data": {
      "text/plain": [
       "ID\n",
       "3        0\n",
       "13       0\n",
       "16       0\n",
       "21       0\n",
       "22       0\n",
       "        ..\n",
       "17849    0\n",
       "17855    0\n",
       "17856    0\n",
       "17863    0\n",
       "17873    0\n",
       "Name: Altura, Length: 4408, dtype: int64"
      ]
     },
     "execution_count": 12,
     "metadata": {},
     "output_type": "execute_result"
    }
   ],
   "source": [
    "serie = data['Altura'][data['Altura'] == 0]\n",
    "\n",
    "serie"
   ]
  },
  {
   "cell_type": "markdown",
   "metadata": {},
   "source": [
    "Apesar de não haver valores nulos, há muitos valores não coletados. Vamos verificar se o IMC desses valores foram coletados."
   ]
  },
  {
   "cell_type": "code",
   "execution_count": 13,
   "metadata": {},
   "outputs": [
    {
     "data": {
      "text/plain": [
       "ID\n",
       "3       NaN\n",
       "13      NaN\n",
       "16      NaN\n",
       "21      NaN\n",
       "22      NaN\n",
       "         ..\n",
       "17849   NaN\n",
       "17855   NaN\n",
       "17856   NaN\n",
       "17863   NaN\n",
       "17873   NaN\n",
       "Name: IMC, Length: 4408, dtype: float64"
      ]
     },
     "execution_count": 13,
     "metadata": {},
     "output_type": "execute_result"
    }
   ],
   "source": [
    "serie = data['IMC'][data['Altura'] == 0]\n",
    "\n",
    "serie"
   ]
  },
  {
   "cell_type": "markdown",
   "metadata": {},
   "source": [
    "Como esperado, não foram."
   ]
  },
  {
   "cell_type": "markdown",
   "metadata": {},
   "source": [
    "## Análise do IMC"
   ]
  },
  {
   "cell_type": "code",
   "execution_count": 14,
   "metadata": {},
   "outputs": [
    {
     "data": {
      "text/plain": [
       "<Axes: xlabel='IMC', ylabel='Count'>"
      ]
     },
     "execution_count": 14,
     "metadata": {},
     "output_type": "execute_result"
    },
    {
     "data": {
      "image/png": "[encoded data removed]",
      "text/plain": [
       "<Figure size 640x480 with 1 Axes>"
      ]
     },
     "metadata": {},
     "output_type": "display_data"
    }
   ],
   "source": [
    "sns.histplot(data['IMC'], bins=30, kde=True)"
   ]
  },
  {
   "cell_type": "code",
   "execution_count": 15,
   "metadata": {},
   "outputs": [
    {
     "data": {
      "text/plain": [
       "<Axes: ylabel='IMC'>"
      ]
     },
     "execution_count": 15,
     "metadata": {},
     "output_type": "execute_result"
    },
    {
     "data": {
      "image/png": "[encoded data removed]",
      "text/plain": [
       "<Figure size 640x480 with 1 Axes>"
      ]
     },
     "metadata": {},
     "output_type": "display_data"
    }
   ],
   "source": [
    "sns.boxplot(data['IMC'])"
   ]
  },
  {
   "cell_type": "code",
   "execution_count": 16,
   "metadata": {},
   "outputs": [
    {
     "data": {
      "text/plain": [
       "ID\n",
       "2285     281.0\n",
       "4958     742.0\n",
       "6746     612.0\n",
       "7551     155.0\n",
       "11042    848.0\n",
       "11931    167.0\n",
       "Name: IMC, dtype: float64"
      ]
     },
     "execution_count": 16,
     "metadata": {},
     "output_type": "execute_result"
    }
   ],
   "source": [
    "serie = data['IMC'][data['IMC'] > 100]\n",
    "\n",
    "serie"
   ]
  },
  {
   "cell_type": "markdown",
   "metadata": {},
   "source": [
    "Irei considerar os valores maiores de 100 como outliers e erros, pois uma pessoa que pesa 1,60cm e tem 300kg teria 117 de IMC."
   ]
  },
  {
   "cell_type": "code",
   "execution_count": 17,
   "metadata": {},
   "outputs": [
    {
     "data": {
      "text/html": [
       "<div>\n",
       "<style scoped>\n",
       "    .dataframe tbody tr th:only-of-type {\n",
       "        vertical-align: middle;\n",
       "    }\n",
       "\n",
       "    .dataframe tbody tr th {\n",
       "        vertical-align: top;\n",
       "    }\n",
       "\n",
       "    .dataframe thead th {\n",
       "        text-align: right;\n",
       "    }\n",
       "</style>\n",
       "<table border=\"1\" class=\"dataframe\">\n",
       "  <thead>\n",
       "    <tr style=\"text-align: right;\">\n",
       "      <th></th>\n",
       "      <th>Peso</th>\n",
       "      <th>Altura</th>\n",
       "      <th>IMC</th>\n",
       "      <th>Atendimento</th>\n",
       "      <th>DN</th>\n",
       "      <th>IDADE</th>\n",
       "      <th>Convenio</th>\n",
       "      <th>PULSOS</th>\n",
       "      <th>PA SISTOLICA</th>\n",
       "      <th>PA DIASTOLICA</th>\n",
       "      <th>PPA</th>\n",
       "      <th>NORMAL X ANORMAL</th>\n",
       "      <th>B2</th>\n",
       "      <th>SOPRO</th>\n",
       "      <th>FC</th>\n",
       "      <th>HDA 1</th>\n",
       "      <th>HDA2</th>\n",
       "      <th>SEXO</th>\n",
       "      <th>MOTIVO1</th>\n",
       "      <th>MOTIVO2</th>\n",
       "    </tr>\n",
       "    <tr>\n",
       "      <th>ID</th>\n",
       "      <th></th>\n",
       "      <th></th>\n",
       "      <th></th>\n",
       "      <th></th>\n",
       "      <th></th>\n",
       "      <th></th>\n",
       "      <th></th>\n",
       "      <th></th>\n",
       "      <th></th>\n",
       "      <th></th>\n",
       "      <th></th>\n",
       "      <th></th>\n",
       "      <th></th>\n",
       "      <th></th>\n",
       "      <th></th>\n",
       "      <th></th>\n",
       "      <th></th>\n",
       "      <th></th>\n",
       "      <th></th>\n",
       "      <th></th>\n",
       "    </tr>\n",
       "  </thead>\n",
       "  <tbody>\n",
       "    <tr>\n",
       "      <th>2285</th>\n",
       "      <td>27.0</td>\n",
       "      <td>31</td>\n",
       "      <td>281.0</td>\n",
       "      <td>20/05/04</td>\n",
       "      <td>16/08/94</td>\n",
       "      <td>10.13</td>\n",
       "      <td>GS</td>\n",
       "      <td>Normais</td>\n",
       "      <td>100.0</td>\n",
       "      <td>60.0</td>\n",
       "      <td>NaN</td>\n",
       "      <td>Normal</td>\n",
       "      <td>Normal</td>\n",
       "      <td>ausente</td>\n",
       "      <td>76</td>\n",
       "      <td>Assintomático</td>\n",
       "      <td>NaN</td>\n",
       "      <td>M</td>\n",
       "      <td>6 - Suspeita de cardiopatia</td>\n",
       "      <td>6 - Sopro</td>\n",
       "    </tr>\n",
       "    <tr>\n",
       "      <th>4958</th>\n",
       "      <td>157.0</td>\n",
       "      <td>46</td>\n",
       "      <td>742.0</td>\n",
       "      <td>06/07/05</td>\n",
       "      <td>10/09/91</td>\n",
       "      <td>14.34</td>\n",
       "      <td>SB</td>\n",
       "      <td>Normais</td>\n",
       "      <td>110.0</td>\n",
       "      <td>80.0</td>\n",
       "      <td>NaN</td>\n",
       "      <td>Anormal</td>\n",
       "      <td>Normal</td>\n",
       "      <td>Sistólico</td>\n",
       "      <td>70</td>\n",
       "      <td>Assintomático</td>\n",
       "      <td>NaN</td>\n",
       "      <td>F</td>\n",
       "      <td>6 - Suspeita de cardiopatia</td>\n",
       "      <td>6 - Palpitação/taquicardia/arritmia</td>\n",
       "    </tr>\n",
       "    <tr>\n",
       "      <th>6746</th>\n",
       "      <td>22.1</td>\n",
       "      <td>19</td>\n",
       "      <td>612.0</td>\n",
       "      <td>17/07/07</td>\n",
       "      <td>06/07/00</td>\n",
       "      <td>7.29</td>\n",
       "      <td>CAMED</td>\n",
       "      <td>Normais</td>\n",
       "      <td>90.0</td>\n",
       "      <td>50.0</td>\n",
       "      <td>NaN</td>\n",
       "      <td>Normal</td>\n",
       "      <td>Normal</td>\n",
       "      <td>ausente</td>\n",
       "      <td>80</td>\n",
       "      <td>Assintomático</td>\n",
       "      <td>NaN</td>\n",
       "      <td>M</td>\n",
       "      <td>5 - Parecer cardiológico</td>\n",
       "      <td>5 - Cirurgia</td>\n",
       "    </tr>\n",
       "    <tr>\n",
       "      <th>7551</th>\n",
       "      <td>1.9</td>\n",
       "      <td>11</td>\n",
       "      <td>155.0</td>\n",
       "      <td>11/04/08</td>\n",
       "      <td>02/09/02</td>\n",
       "      <td>5.82</td>\n",
       "      <td>UR</td>\n",
       "      <td>Normais</td>\n",
       "      <td>100.0</td>\n",
       "      <td>60.0</td>\n",
       "      <td>NaN</td>\n",
       "      <td>Normal</td>\n",
       "      <td>Normal</td>\n",
       "      <td>ausente</td>\n",
       "      <td>100</td>\n",
       "      <td>Dispneia</td>\n",
       "      <td>Dor precordial</td>\n",
       "      <td>M</td>\n",
       "      <td>5 - Parecer cardiológico</td>\n",
       "      <td>NaN</td>\n",
       "    </tr>\n",
       "    <tr>\n",
       "      <th>11042</th>\n",
       "      <td>21.7</td>\n",
       "      <td>16</td>\n",
       "      <td>848.0</td>\n",
       "      <td>17/12/09</td>\n",
       "      <td>12/02/04</td>\n",
       "      <td>6.07</td>\n",
       "      <td>NaN</td>\n",
       "      <td>Normais</td>\n",
       "      <td>NaN</td>\n",
       "      <td>NaN</td>\n",
       "      <td>Não Calculado</td>\n",
       "      <td>Anormal</td>\n",
       "      <td>Hiperfonética</td>\n",
       "      <td>ausente</td>\n",
       "      <td>110</td>\n",
       "      <td>Desmaio/tontura</td>\n",
       "      <td>NaN</td>\n",
       "      <td>F</td>\n",
       "      <td>6 - Suspeita de cardiopatia</td>\n",
       "      <td>Outro</td>\n",
       "    </tr>\n",
       "    <tr>\n",
       "      <th>11931</th>\n",
       "      <td>47.0</td>\n",
       "      <td>53</td>\n",
       "      <td>167.0</td>\n",
       "      <td>22/09/05</td>\n",
       "      <td>NaN</td>\n",
       "      <td>NaN</td>\n",
       "      <td>NaN</td>\n",
       "      <td>Normais</td>\n",
       "      <td>85.0</td>\n",
       "      <td>60.0</td>\n",
       "      <td>#VALUE!</td>\n",
       "      <td>Normal</td>\n",
       "      <td>Normal</td>\n",
       "      <td>ausente</td>\n",
       "      <td>100</td>\n",
       "      <td>NaN</td>\n",
       "      <td>NaN</td>\n",
       "      <td>F</td>\n",
       "      <td>5 - Parecer cardiológico</td>\n",
       "      <td>5 - Cirurgia</td>\n",
       "    </tr>\n",
       "  </tbody>\n",
       "</table>\n",
       "</div>"
      ],
      "text/plain": [
       "        Peso  Altura    IMC Atendimento        DN  IDADE Convenio   PULSOS  \\\n",
       "ID                                                                           \n",
       "2285    27.0      31  281.0    20/05/04  16/08/94  10.13       GS  Normais   \n",
       "4958   157.0      46  742.0    06/07/05  10/09/91  14.34       SB  Normais   \n",
       "6746    22.1      19  612.0    17/07/07  06/07/00   7.29    CAMED  Normais   \n",
       "7551     1.9      11  155.0    11/04/08  02/09/02   5.82       UR  Normais   \n",
       "11042   21.7      16  848.0    17/12/09  12/02/04   6.07      NaN  Normais   \n",
       "11931   47.0      53  167.0    22/09/05       NaN    NaN      NaN  Normais   \n",
       "\n",
       "       PA SISTOLICA  PA DIASTOLICA            PPA NORMAL X ANORMAL  \\\n",
       "ID                                                                   \n",
       "2285          100.0           60.0            NaN           Normal   \n",
       "4958          110.0           80.0            NaN          Anormal   \n",
       "6746           90.0           50.0            NaN           Normal   \n",
       "7551          100.0           60.0            NaN           Normal   \n",
       "11042           NaN            NaN  Não Calculado          Anormal   \n",
       "11931          85.0           60.0        #VALUE!           Normal   \n",
       "\n",
       "                  B2      SOPRO   FC            HDA 1            HDA2 SEXO  \\\n",
       "ID                                                                           \n",
       "2285          Normal    ausente   76    Assintomático             NaN    M   \n",
       "4958          Normal  Sistólico   70    Assintomático             NaN    F   \n",
       "6746          Normal    ausente   80    Assintomático             NaN    M   \n",
       "7551          Normal    ausente  100         Dispneia  Dor precordial    M   \n",
       "11042  Hiperfonética    ausente  110  Desmaio/tontura             NaN    F   \n",
       "11931         Normal    ausente  100              NaN             NaN    F   \n",
       "\n",
       "                           MOTIVO1                              MOTIVO2  \n",
       "ID                                                                       \n",
       "2285   6 - Suspeita de cardiopatia                            6 - Sopro  \n",
       "4958   6 - Suspeita de cardiopatia  6 - Palpitação/taquicardia/arritmia  \n",
       "6746      5 - Parecer cardiológico                         5 - Cirurgia  \n",
       "7551      5 - Parecer cardiológico                                  NaN  \n",
       "11042  6 - Suspeita de cardiopatia                                Outro  \n",
       "11931     5 - Parecer cardiológico                         5 - Cirurgia  "
      ]
     },
     "execution_count": 17,
     "metadata": {},
     "output_type": "execute_result"
    }
   ],
   "source": [
    "data[data['IMC'] > 100]"
   ]
  },
  {
   "cell_type": "code",
   "execution_count": 18,
   "metadata": {},
   "outputs": [],
   "source": [
    "def calcula_imc(peso, altura):\n",
    "    return peso / (altura ** 2)"
   ]
  },
  {
   "cell_type": "code",
   "execution_count": 19,
   "metadata": {},
   "outputs": [
    {
     "name": "stderr",
     "output_type": "stream",
     "text": [
      "C:\\Users\\danie\\AppData\\Local\\Temp\\ipykernel_18596\\130796944.py:3: FutureWarning: ChainedAssignmentError: behaviour will change in pandas 3.0!\n",
      "You are setting values through chained assignment. Currently this works in certain cases, but when using Copy-on-Write (which will become the default behaviour in pandas 3.0) this will never work to update the original DataFrame or Series, because the intermediate object on which we are setting values will behave as a copy.\n",
      "A typical example is when you are setting values in a column of a DataFrame, like:\n",
      "\n",
      "df[\"col\"][row_indexer] = value\n",
      "\n",
      "Use `df.loc[row_indexer, \"col\"] = values` instead, to perform the assignment in a single step and ensure this keeps updating the original `df`.\n",
      "\n",
      "See the caveats in the documentation: https://pandas.pydata.org/pandas-docs/stable/user_guide/indexing.html#returning-a-view-versus-a-copy\n",
      "\n",
      "  data['IMC'][data['IMC'] > 100] = calcula_imc(data['Peso'][data['IMC'] > 100], data['Altura'][data['IMC'] > 100])\n"
     ]
    }
   ],
   "source": [
    "# Aplica o calcula IMC apenas nos valores que estão com IMC acima de 100\n",
    "\n",
    "data['IMC'][data['IMC'] > 100] = calcula_imc(data['Peso'][data['IMC'] > 100], data['Altura'][data['IMC'] > 100])"
   ]
  },
  {
   "cell_type": "code",
   "execution_count": 20,
   "metadata": {},
   "outputs": [
    {
     "data": {
      "text/plain": [
       "<Axes: xlabel='IMC', ylabel='Count'>"
      ]
     },
     "execution_count": 20,
     "metadata": {},
     "output_type": "execute_result"
    },
    {
     "data": {
      "image/png": "[encoded data removed]",
      "text/plain": [
       "<Figure size 640x480 with 1 Axes>"
      ]
     },
     "metadata": {},
     "output_type": "display_data"
    }
   ],
   "source": [
    "sns.histplot(data['IMC'], bins=30, kde=True)"
   ]
  },
  {
   "cell_type": "code",
   "execution_count": 21,
   "metadata": {},
   "outputs": [
    {
     "data": {
      "text/plain": [
       "count    13146.000000\n",
       "mean        17.592977\n",
       "std          4.271546\n",
       "min          0.000000\n",
       "25%         15.000000\n",
       "50%         17.000000\n",
       "75%         19.000000\n",
       "max         99.000000\n",
       "Name: IMC, dtype: float64"
      ]
     },
     "execution_count": 21,
     "metadata": {},
     "output_type": "execute_result"
    }
   ],
   "source": [
    "data['IMC'].describe()"
   ]
  },
  {
   "cell_type": "code",
   "execution_count": 22,
   "metadata": {},
   "outputs": [
    {
     "name": "stderr",
     "output_type": "stream",
     "text": [
      "C:\\Users\\danie\\AppData\\Local\\Temp\\ipykernel_18596\\974663617.py:3: FutureWarning: ChainedAssignmentError: behaviour will change in pandas 3.0!\n",
      "You are setting values through chained assignment. Currently this works in certain cases, but when using Copy-on-Write (which will become the default behaviour in pandas 3.0) this will never work to update the original DataFrame or Series, because the intermediate object on which we are setting values will behave as a copy.\n",
      "A typical example is when you are setting values in a column of a DataFrame, like:\n",
      "\n",
      "df[\"col\"][row_indexer] = value\n",
      "\n",
      "Use `df.loc[row_indexer, \"col\"] = values` instead, to perform the assignment in a single step and ensure this keeps updating the original `df`.\n",
      "\n",
      "See the caveats in the documentation: https://pandas.pydata.org/pandas-docs/stable/user_guide/indexing.html#returning-a-view-versus-a-copy\n",
      "\n",
      "  data['IMC'][data['IMC'] == 0] = np.nan\n",
      "C:\\Users\\danie\\AppData\\Local\\Temp\\ipykernel_18596\\974663617.py:3: SettingWithCopyWarning: \n",
      "A value is trying to be set on a copy of a slice from a DataFrame\n",
      "\n",
      "See the caveats in the documentation: https://pandas.pydata.org/pandas-docs/stable/user_guide/indexing.html#returning-a-view-versus-a-copy\n",
      "  data['IMC'][data['IMC'] == 0] = np.nan\n"
     ]
    }
   ],
   "source": [
    "# Vamos marcar os valores de IMC igual a 0 como NaN\n",
    "\n",
    "data['IMC'][data['IMC'] == 0] = np.nan"
   ]
  },
  {
   "cell_type": "markdown",
   "metadata": {},
   "source": [
    "Vamos tirar as colunas Altura e Peso dos dados a partir de agora."
   ]
  },
  {
   "cell_type": "code",
   "execution_count": 23,
   "metadata": {},
   "outputs": [
    {
     "data": {
      "text/html": [
       "<div>\n",
       "<style scoped>\n",
       "    .dataframe tbody tr th:only-of-type {\n",
       "        vertical-align: middle;\n",
       "    }\n",
       "\n",
       "    .dataframe tbody tr th {\n",
       "        vertical-align: top;\n",
       "    }\n",
       "\n",
       "    .dataframe thead th {\n",
       "        text-align: right;\n",
       "    }\n",
       "</style>\n",
       "<table border=\"1\" class=\"dataframe\">\n",
       "  <thead>\n",
       "    <tr style=\"text-align: right;\">\n",
       "      <th></th>\n",
       "      <th>IMC</th>\n",
       "      <th>Atendimento</th>\n",
       "      <th>DN</th>\n",
       "      <th>IDADE</th>\n",
       "      <th>Convenio</th>\n",
       "      <th>PULSOS</th>\n",
       "      <th>PA SISTOLICA</th>\n",
       "      <th>PA DIASTOLICA</th>\n",
       "      <th>PPA</th>\n",
       "      <th>NORMAL X ANORMAL</th>\n",
       "      <th>B2</th>\n",
       "      <th>SOPRO</th>\n",
       "      <th>FC</th>\n",
       "      <th>HDA 1</th>\n",
       "      <th>HDA2</th>\n",
       "      <th>SEXO</th>\n",
       "      <th>MOTIVO1</th>\n",
       "      <th>MOTIVO2</th>\n",
       "    </tr>\n",
       "    <tr>\n",
       "      <th>ID</th>\n",
       "      <th></th>\n",
       "      <th></th>\n",
       "      <th></th>\n",
       "      <th></th>\n",
       "      <th></th>\n",
       "      <th></th>\n",
       "      <th></th>\n",
       "      <th></th>\n",
       "      <th></th>\n",
       "      <th></th>\n",
       "      <th></th>\n",
       "      <th></th>\n",
       "      <th></th>\n",
       "      <th></th>\n",
       "      <th></th>\n",
       "      <th></th>\n",
       "      <th></th>\n",
       "      <th></th>\n",
       "    </tr>\n",
       "  </thead>\n",
       "  <tbody>\n",
       "    <tr>\n",
       "      <th>1</th>\n",
       "      <td>19.0</td>\n",
       "      <td>11/05/06</td>\n",
       "      <td>30/03/06</td>\n",
       "      <td>0.12</td>\n",
       "      <td>GS</td>\n",
       "      <td>Normais</td>\n",
       "      <td>NaN</td>\n",
       "      <td>NaN</td>\n",
       "      <td>Não Calculado</td>\n",
       "      <td>Anormal</td>\n",
       "      <td>Normal</td>\n",
       "      <td>Sistólico</td>\n",
       "      <td>112</td>\n",
       "      <td>Palpitacao</td>\n",
       "      <td>NaN</td>\n",
       "      <td>M</td>\n",
       "      <td>6 - Suspeita de cardiopatia</td>\n",
       "      <td>6 - Palpitação/taquicardia/arritmia</td>\n",
       "    </tr>\n",
       "    <tr>\n",
       "      <th>2</th>\n",
       "      <td>14.0</td>\n",
       "      <td>25/05/05</td>\n",
       "      <td>19/05/05</td>\n",
       "      <td>0.02</td>\n",
       "      <td>GS</td>\n",
       "      <td>Normais</td>\n",
       "      <td>NaN</td>\n",
       "      <td>NaN</td>\n",
       "      <td>Não Calculado</td>\n",
       "      <td>Anormal</td>\n",
       "      <td>Normal</td>\n",
       "      <td>ausente</td>\n",
       "      <td>128</td>\n",
       "      <td>Dispneia</td>\n",
       "      <td>NaN</td>\n",
       "      <td>M</td>\n",
       "      <td>6 - Suspeita de cardiopatia</td>\n",
       "      <td>6 - Dispnéia</td>\n",
       "    </tr>\n",
       "    <tr>\n",
       "      <th>3</th>\n",
       "      <td>NaN</td>\n",
       "      <td>12/06/01</td>\n",
       "      <td>08/05/05</td>\n",
       "      <td>-4.05</td>\n",
       "      <td>SULA</td>\n",
       "      <td>Normais</td>\n",
       "      <td>NaN</td>\n",
       "      <td>NaN</td>\n",
       "      <td>Não Calculado</td>\n",
       "      <td>Anormal</td>\n",
       "      <td>Normal</td>\n",
       "      <td>Sistólico</td>\n",
       "      <td>88</td>\n",
       "      <td>Assintomático</td>\n",
       "      <td>NaN</td>\n",
       "      <td>M</td>\n",
       "      <td>2 - Check-up</td>\n",
       "      <td>NaN</td>\n",
       "    </tr>\n",
       "    <tr>\n",
       "      <th>4</th>\n",
       "      <td>19.0</td>\n",
       "      <td>15/10/09</td>\n",
       "      <td>21/04/09</td>\n",
       "      <td>0.5</td>\n",
       "      <td>NaN</td>\n",
       "      <td>Normais</td>\n",
       "      <td>NaN</td>\n",
       "      <td>NaN</td>\n",
       "      <td>Não Calculado</td>\n",
       "      <td>Anormal</td>\n",
       "      <td>Normal</td>\n",
       "      <td>ausente</td>\n",
       "      <td>92</td>\n",
       "      <td>Assintomático</td>\n",
       "      <td>NaN</td>\n",
       "      <td>M</td>\n",
       "      <td>5 - Parecer cardiológico</td>\n",
       "      <td>NaN</td>\n",
       "    </tr>\n",
       "    <tr>\n",
       "      <th>5</th>\n",
       "      <td>20.0</td>\n",
       "      <td>23/01/09</td>\n",
       "      <td>24/10/99</td>\n",
       "      <td>9.6</td>\n",
       "      <td>Sulam</td>\n",
       "      <td>Normais</td>\n",
       "      <td>85.0</td>\n",
       "      <td>50.0</td>\n",
       "      <td>Normal</td>\n",
       "      <td>Anormal</td>\n",
       "      <td>Normal</td>\n",
       "      <td>ausente</td>\n",
       "      <td>90</td>\n",
       "      <td>NaN</td>\n",
       "      <td>NaN</td>\n",
       "      <td>M</td>\n",
       "      <td>5 - Parecer cardiológico</td>\n",
       "      <td>5 - Atividade física</td>\n",
       "    </tr>\n",
       "  </tbody>\n",
       "</table>\n",
       "</div>"
      ],
      "text/plain": [
       "     IMC Atendimento        DN  IDADE Convenio   PULSOS  PA SISTOLICA  \\\n",
       "ID                                                                      \n",
       "1   19.0    11/05/06  30/03/06   0.12       GS  Normais           NaN   \n",
       "2   14.0    25/05/05  19/05/05   0.02       GS  Normais           NaN   \n",
       "3    NaN    12/06/01  08/05/05  -4.05     SULA  Normais           NaN   \n",
       "4   19.0    15/10/09  21/04/09    0.5      NaN  Normais           NaN   \n",
       "5   20.0    23/01/09  24/10/99    9.6    Sulam  Normais          85.0   \n",
       "\n",
       "    PA DIASTOLICA            PPA NORMAL X ANORMAL      B2      SOPRO   FC  \\\n",
       "ID                                                                          \n",
       "1             NaN  Não Calculado          Anormal  Normal  Sistólico  112   \n",
       "2             NaN  Não Calculado          Anormal  Normal    ausente  128   \n",
       "3             NaN  Não Calculado          Anormal  Normal  Sistólico   88   \n",
       "4             NaN  Não Calculado          Anormal  Normal    ausente   92   \n",
       "5            50.0         Normal          Anormal  Normal    ausente   90   \n",
       "\n",
       "            HDA 1 HDA2 SEXO                      MOTIVO1  \\\n",
       "ID                                                         \n",
       "1      Palpitacao  NaN    M  6 - Suspeita de cardiopatia   \n",
       "2        Dispneia  NaN    M  6 - Suspeita de cardiopatia   \n",
       "3   Assintomático  NaN    M                 2 - Check-up   \n",
       "4   Assintomático  NaN    M     5 - Parecer cardiológico   \n",
       "5             NaN  NaN    M     5 - Parecer cardiológico   \n",
       "\n",
       "                                MOTIVO2  \n",
       "ID                                       \n",
       "1   6 - Palpitação/taquicardia/arritmia  \n",
       "2                          6 - Dispnéia  \n",
       "3                                   NaN  \n",
       "4                                   NaN  \n",
       "5                  5 - Atividade física  "
      ]
     },
     "execution_count": 23,
     "metadata": {},
     "output_type": "execute_result"
    }
   ],
   "source": [
    "data = data.drop('Peso', axis=1)\n",
    "data = data.drop('Altura', axis=1)\n",
    "\n",
    "data.head()"
   ]
  },
  {
   "cell_type": "markdown",
   "metadata": {},
   "source": [
    "Vamos substituir os valores NaN no IMC pela moda."
   ]
  },
  {
   "cell_type": "code",
   "execution_count": 24,
   "metadata": {},
   "outputs": [],
   "source": [
    "# Substitui os valores nulos pela moda\n",
    "\n",
    "data['IMC'] = data['IMC'].fillna(data['IMC'].mode()[0])"
   ]
  },
  {
   "cell_type": "code",
   "execution_count": 25,
   "metadata": {},
   "outputs": [
    {
     "data": {
      "text/plain": [
       "<Axes: xlabel='IMC', ylabel='Count'>"
      ]
     },
     "execution_count": 25,
     "metadata": {},
     "output_type": "execute_result"
    },
    {
     "data": {
      "image/png": "[encoded data removed]",
      "text/plain": [
       "<Figure size 640x480 with 1 Axes>"
      ]
     },
     "metadata": {},
     "output_type": "display_data"
    }
   ],
   "source": [
    "sns.histplot(data['IMC'], bins=30, kde=True)"
   ]
  },
  {
   "cell_type": "markdown",
   "metadata": {},
   "source": [
    "## Entendendo IDADE"
   ]
  },
  {
   "cell_type": "code",
   "execution_count": 26,
   "metadata": {},
   "outputs": [
    {
     "name": "stdout",
     "output_type": "stream",
     "text": [
      "#VALUE!\n",
      "#VALUE!\n",
      "#VALUE!\n",
      "#VALUE!\n",
      "#VALUE!\n",
      "#VALUE!\n",
      "#VALUE!\n",
      "#VALUE!\n",
      "#VALUE!\n",
      "#VALUE!\n",
      "#VALUE!\n",
      "#VALUE!\n",
      "#VALUE!\n",
      "#VALUE!\n",
      "#VALUE!\n",
      "#VALUE!\n",
      "#VALUE!\n",
      "#VALUE!\n",
      "#VALUE!\n",
      "#VALUE!\n",
      "#VALUE!\n",
      "#VALUE!\n",
      "#VALUE!\n",
      "#VALUE!\n",
      "#VALUE!\n",
      "#VALUE!\n",
      "#VALUE!\n",
      "#VALUE!\n",
      "#VALUE!\n",
      "#VALUE!\n",
      "#VALUE!\n",
      "#VALUE!\n",
      "#VALUE!\n",
      "#VALUE!\n",
      "#VALUE!\n",
      "#VALUE!\n",
      "#VALUE!\n",
      "#VALUE!\n",
      "#VALUE!\n",
      "#VALUE!\n",
      "#VALUE!\n",
      "#VALUE!\n",
      "#VALUE!\n",
      "#VALUE!\n",
      "#VALUE!\n",
      "#VALUE!\n",
      "#VALUE!\n",
      "#VALUE!\n",
      "#VALUE!\n",
      "#VALUE!\n",
      "#VALUE!\n",
      "#VALUE!\n",
      "#VALUE!\n",
      "#VALUE!\n",
      "#VALUE!\n",
      "#VALUE!\n",
      "#VALUE!\n",
      "#VALUE!\n",
      "#VALUE!\n",
      "#VALUE!\n",
      "#VALUE!\n",
      "#VALUE!\n",
      "#VALUE!\n",
      "#VALUE!\n",
      "#VALUE!\n",
      "#VALUE!\n",
      "#VALUE!\n",
      "#VALUE!\n",
      "#VALUE!\n",
      "#VALUE!\n",
      "#VALUE!\n",
      "#VALUE!\n",
      "#VALUE!\n",
      "#VALUE!\n",
      "#VALUE!\n",
      "#VALUE!\n",
      "#VALUE!\n",
      "#VALUE!\n",
      "#VALUE!\n",
      "#VALUE!\n",
      "#VALUE!\n",
      "#VALUE!\n",
      "#VALUE!\n",
      "#VALUE!\n",
      "#VALUE!\n",
      "#VALUE!\n",
      "#VALUE!\n",
      "#VALUE!\n",
      "#VALUE!\n",
      "#VALUE!\n",
      "#VALUE!\n",
      "#VALUE!\n",
      "#VALUE!\n",
      "#VALUE!\n",
      "#VALUE!\n",
      "#VALUE!\n",
      "#VALUE!\n",
      "#VALUE!\n",
      "#VALUE!\n",
      "#VALUE!\n",
      "#VALUE!\n",
      "#VALUE!\n",
      "#VALUE!\n",
      "#VALUE!\n",
      "#VALUE!\n",
      "#VALUE!\n",
      "#VALUE!\n",
      "#VALUE!\n",
      "#VALUE!\n",
      "#VALUE!\n",
      "#VALUE!\n",
      "#VALUE!\n",
      "#VALUE!\n",
      "#VALUE!\n",
      "#VALUE!\n",
      "#VALUE!\n",
      "#VALUE!\n",
      "#VALUE!\n",
      "#VALUE!\n"
     ]
    }
   ],
   "source": [
    "# Passa por cada um do termos da coluna \"IDADE\" e verifica quais são string\n",
    "\n",
    "for i in data['IDADE']:\n",
    "    try:\n",
    "        float(i)\n",
    "    except:\n",
    "        print(i)"
   ]
  },
  {
   "cell_type": "code",
   "execution_count": 27,
   "metadata": {},
   "outputs": [],
   "source": [
    "# Coloca os valores \"#VALUE!\" como NaN\n",
    "\n",
    "data['IDADE'] = pd.to_numeric(data['IDADE'], errors='coerce')"
   ]
  },
  {
   "cell_type": "code",
   "execution_count": 28,
   "metadata": {},
   "outputs": [
    {
     "data": {
      "text/plain": [
       "count    16062.000000\n",
       "mean         6.033612\n",
       "std          7.830361\n",
       "min       -113.180000\n",
       "25%          2.220000\n",
       "50%          5.670000\n",
       "75%          9.990000\n",
       "max         71.810000\n",
       "Name: IDADE, dtype: float64"
      ]
     },
     "execution_count": 28,
     "metadata": {},
     "output_type": "execute_result"
    }
   ],
   "source": [
    "data['IDADE'].describe()"
   ]
  },
  {
   "cell_type": "code",
   "execution_count": 29,
   "metadata": {},
   "outputs": [
    {
     "data": {
      "text/plain": [
       "<Axes: xlabel='IDADE', ylabel='Count'>"
      ]
     },
     "execution_count": 29,
     "metadata": {},
     "output_type": "execute_result"
    },
    {
     "data": {
      "image/png": "[encoded data removed]",
      "text/plain": [
       "<Figure size 640x480 with 1 Axes>"
      ]
     },
     "metadata": {},
     "output_type": "display_data"
    }
   ],
   "source": [
    "sns.histplot(data['IDADE'], bins=30, kde=True)"
   ]
  },
  {
   "cell_type": "code",
   "execution_count": 30,
   "metadata": {},
   "outputs": [
    {
     "data": {
      "text/plain": [
       "ID\n",
       "3         -4.05\n",
       "590     -106.66\n",
       "761       -0.18\n",
       "943       -0.03\n",
       "1214    -112.09\n",
       "          ...  \n",
       "17071     -0.75\n",
       "17333     -0.54\n",
       "17692     -0.13\n",
       "17793    -96.32\n",
       "17872    -24.03\n",
       "Name: IDADE, Length: 118, dtype: float64"
      ]
     },
     "execution_count": 30,
     "metadata": {},
     "output_type": "execute_result"
    }
   ],
   "source": [
    "serie = data['IDADE'][data['IDADE'] < 0]\n",
    "\n",
    "serie"
   ]
  },
  {
   "cell_type": "markdown",
   "metadata": {},
   "source": [
    "Vamos marcar esses valores negativos como NaN e depois substituir pela moda."
   ]
  },
  {
   "cell_type": "code",
   "execution_count": 31,
   "metadata": {},
   "outputs": [
    {
     "name": "stderr",
     "output_type": "stream",
     "text": [
      "C:\\Users\\danie\\AppData\\Local\\Temp\\ipykernel_18596\\278505585.py:3: FutureWarning: ChainedAssignmentError: behaviour will change in pandas 3.0!\n",
      "You are setting values through chained assignment. Currently this works in certain cases, but when using Copy-on-Write (which will become the default behaviour in pandas 3.0) this will never work to update the original DataFrame or Series, because the intermediate object on which we are setting values will behave as a copy.\n",
      "A typical example is when you are setting values in a column of a DataFrame, like:\n",
      "\n",
      "df[\"col\"][row_indexer] = value\n",
      "\n",
      "Use `df.loc[row_indexer, \"col\"] = values` instead, to perform the assignment in a single step and ensure this keeps updating the original `df`.\n",
      "\n",
      "See the caveats in the documentation: https://pandas.pydata.org/pandas-docs/stable/user_guide/indexing.html#returning-a-view-versus-a-copy\n",
      "\n",
      "  data['IDADE'][data['IDADE'] < 0] = np.nan\n",
      "C:\\Users\\danie\\AppData\\Local\\Temp\\ipykernel_18596\\278505585.py:3: SettingWithCopyWarning: \n",
      "A value is trying to be set on a copy of a slice from a DataFrame\n",
      "\n",
      "See the caveats in the documentation: https://pandas.pydata.org/pandas-docs/stable/user_guide/indexing.html#returning-a-view-versus-a-copy\n",
      "  data['IDADE'][data['IDADE'] < 0] = np.nan\n"
     ]
    }
   ],
   "source": [
    "# Marca os valores negativos de IDADE como NaN\n",
    "\n",
    "data['IDADE'][data['IDADE'] < 0] = np.nan"
   ]
  },
  {
   "cell_type": "code",
   "execution_count": 32,
   "metadata": {},
   "outputs": [
    {
     "name": "stderr",
     "output_type": "stream",
     "text": [
      "C:\\Users\\danie\\AppData\\Local\\Temp\\ipykernel_18596\\4028094325.py:3: FutureWarning: ChainedAssignmentError: behaviour will change in pandas 3.0!\n",
      "You are setting values through chained assignment. Currently this works in certain cases, but when using Copy-on-Write (which will become the default behaviour in pandas 3.0) this will never work to update the original DataFrame or Series, because the intermediate object on which we are setting values will behave as a copy.\n",
      "A typical example is when you are setting values in a column of a DataFrame, like:\n",
      "\n",
      "df[\"col\"][row_indexer] = value\n",
      "\n",
      "Use `df.loc[row_indexer, \"col\"] = values` instead, to perform the assignment in a single step and ensure this keeps updating the original `df`.\n",
      "\n",
      "See the caveats in the documentation: https://pandas.pydata.org/pandas-docs/stable/user_guide/indexing.html#returning-a-view-versus-a-copy\n",
      "\n",
      "  data['IDADE'][data['IDADE'] > 19] = np.nan\n",
      "C:\\Users\\danie\\AppData\\Local\\Temp\\ipykernel_18596\\4028094325.py:3: SettingWithCopyWarning: \n",
      "A value is trying to be set on a copy of a slice from a DataFrame\n",
      "\n",
      "See the caveats in the documentation: https://pandas.pydata.org/pandas-docs/stable/user_guide/indexing.html#returning-a-view-versus-a-copy\n",
      "  data['IDADE'][data['IDADE'] > 19] = np.nan\n"
     ]
    }
   ],
   "source": [
    "# Marca os valores maiores que 19 como NaN\n",
    "\n",
    "data['IDADE'][data['IDADE'] > 19] = np.nan"
   ]
  },
  {
   "cell_type": "code",
   "execution_count": 33,
   "metadata": {},
   "outputs": [],
   "source": [
    "data['IDADE'] = data['IDADE'].fillna(data['IDADE'].mode()[0])"
   ]
  },
  {
   "cell_type": "code",
   "execution_count": 34,
   "metadata": {},
   "outputs": [
    {
     "data": {
      "text/plain": [
       "count    17554.000000\n",
       "mean         5.670970\n",
       "std          4.778606\n",
       "min          0.000000\n",
       "25%          0.990000\n",
       "50%          4.910000\n",
       "75%          9.470000\n",
       "max         18.910000\n",
       "Name: IDADE, dtype: float64"
      ]
     },
     "execution_count": 34,
     "metadata": {},
     "output_type": "execute_result"
    }
   ],
   "source": [
    "data['IDADE'].describe()"
   ]
  },
  {
   "cell_type": "code",
   "execution_count": 35,
   "metadata": {},
   "outputs": [
    {
     "data": {
      "text/plain": [
       "<Axes: xlabel='IDADE', ylabel='Count'>"
      ]
     },
     "execution_count": 35,
     "metadata": {},
     "output_type": "execute_result"
    },
    {
     "data": {
      "image/png": "[encoded data removed]",
      "text/plain": [
       "<Figure size 640x480 with 1 Axes>"
      ]
     },
     "metadata": {},
     "output_type": "display_data"
    }
   ],
   "source": [
    "sns.histplot(data['IDADE'], bins=50, kde=True)"
   ]
  },
  {
   "cell_type": "markdown",
   "metadata": {},
   "source": [
    "## Análise de Convenio"
   ]
  },
  {
   "cell_type": "code",
   "execution_count": 36,
   "metadata": {},
   "outputs": [
    {
     "data": {
      "text/plain": [
       "array(['GS', 'SULA', nan, 'Sulam', 'SAME', 'UR', 'Grupo', 'PART', 'SB',\n",
       "       'SA', 'S.America', 'UG', 'Norclinicas', 'Camed', 'REAL S.',\n",
       "       'Medial', 'SEMEPE', 'MEDIAL', 'CT', 'GRUPO', 'CC', 'S.A',\n",
       "       'Norclínicas', 'Sul America', 'SUS', 'Funcef', 'SulAmerica',\n",
       "       'Ideal', 'IDEAL', 'Sta Helena', 'Fusex', 'Real S.', 'Unibanco',\n",
       "       '35971', 'REAL', 'Aeronáutica', 'Tabela', 'Viva', 'América',\n",
       "       'NORCL', 'CAMED', 'NORCLIN', 'U.Recife', 'S.AM', 'Norcl',\n",
       "       'ST.HELENA', 'BLSERV', 'Aero', 'Medserv', 'NORCLIN.', 'medial',\n",
       "       'AERON.', 'Fachesf', 'FUSEX', 'Medservice', 'Real Saude', 'BLUELI',\n",
       "       'MMS', 'ASL', 'MEDSERV', 'NORC', 'Norclínica', 'AS', 'CASSI',\n",
       "       'Cassi', 'Unimed Recife', 'Semepe', 'Circulo', 'U G', 'Notredame',\n",
       "       'América S.', 'Real', 'FUNCEF', 'CELPOS', 'UNIB.', 'Norclinica',\n",
       "       'Saúde Recife', 'MEDIAl', 'S. RECIFE', 'Unimed Foratleza',\n",
       "       'FACHESF', 'Sta. Clara', 'Sul Am', 'S. CX', 'same', 'MEDISERV.',\n",
       "       'ASSEF', 'Fisco', 'OAB Saúde', 'Assefaz', 'Bluelife', 'Notre Dame',\n",
       "       'SANT H', 'Petrob', 'ASSEFAZ', 'CAMPE', 'Comsaúde', 'Particular',\n",
       "       'BL', 'Medial S', 'GC', 'BRADESCO', 'America', 'Sula', 'Sta Clara',\n",
       "       'Unimed', 'REAL  S.', 'Gs', 'america', 'Part.', 'Saude Recife',\n",
       "       'Círculo', 'Mediservice', 'CHESF', 'Fachesp', 'FACHES', 'PARTICL',\n",
       "       'AGF', 'Unimed Rec', 'Mediserv', 'Gama', 'NORCLI', 'FISCO',\n",
       "       'Santa Helena', 'Same', 'Golden', 'Blue Life', 'Sul América',\n",
       "       'MEDISER', 'TABELA', 'Ur', 'NORC.', 'Reemb.', 'Medial S.',\n",
       "       'Norclín', 'Sul america', 'cortesia', 'UNIMED R', 'Real Saúde',\n",
       "       '39561', 'América Saude', 'S. Caixa', 'Saude Excelsior', 'CELPE',\n",
       "       'Santa Clara', 'CASS', 'Aeronautica', 'P', 'PETROB.', 'Celpos',\n",
       "       'REE/SA', 'SH', 'UNIBAN', 'Norcínicas', 'Embrat', 'Chesf', 'Tabel',\n",
       "       'Mediservece', 'Cortesia', 'TAB/UR', 'ur', 'SulAm', 'S Bradesco',\n",
       "       'grupo', 'SUL AMER.', 'U.RECIFE', 'Alians', 'SaudeRecife',\n",
       "       'MEDISE', 'Aeron', 'GAMA', 'S.Helena', 'Fisco Saude', 'VIVA',\n",
       "       'Real S', 'GOLDEN', 'NORCLINIC', '38001', 'UNIMED', 'semepe',\n",
       "       'Saúde Caixa', 'America S.', 'TAB', 'Part', 'tabela', 'Medise',\n",
       "       'S.Recife', 'S Recife', 'Norcli', 'AMIL', 'Partic', 'PETROBRAS',\n",
       "       'AMEP', 'Amepe Campe', 'MEDISERVICE', 'C Cor', 'Sus', 'Patrt',\n",
       "       'Rela Saude', 'cc', 'Saude recife', 'IDEAL S.', 'NORCLINC',\n",
       "       'Saúde Rec.', 'Unimed Gua', 'S A', 'fusex', 'SAQ', 'EMBRATEL',\n",
       "       'Comsaude', 'MEDSER', 'ASSEFA', 'Norclin', '17999', 'AERO',\n",
       "       'Ideal S.', 'cort', 'OAB', 'círculo', 'Tab', 'TAB.', 'Fiscosaude',\n",
       "       'Plan', 'STAHER', 'norcl', 'S recife', 'SEMEP', 'AERON',\n",
       "       'Blue life', 'Saúde Rec', 'U.G.', 'Fachaesf', '36170', 'S. Recife',\n",
       "       'Petrobrás', 'Norc', 'Golden Cross', 'camed', 'real', 'Campe',\n",
       "       'Sulamerica', 'particular', 'S.B.', 'U.Guararap.', 'Bradesco',\n",
       "       'Banco  Central', 'Embratel', 'Cassi + tab', 'America Saude',\n",
       "       'S.A.', 'sb', 'UNIB', 'PETROF', 'Plan Assiste', 'Ucaruaru',\n",
       "       'Odeal S.', 'Faches', 'TBA', 'PETROB', 'Correio', 'MEDESE',\n",
       "       'MEDISERV', 'Un.Recife', 'SulAmérica', 'U. Recife', 'MEDIS',\n",
       "       'Amepe', 'caixa', 'CASSI/  PART.', 'Sta. Helena', 'Santa Helen',\n",
       "       'Saude Caixa', 'CAIXA', 'URecife', 'SEXCEL', 'Medserv.', 'Reemb',\n",
       "       'Plansf', 'AMB', 'Norclínia', 'BlueLife', 'unimed', 'Celpe',\n",
       "       'Unimed R.', 'U.Guararapes', 'SULAM', '113205', 'Unim.Recife',\n",
       "       'Petrobras', 'saude recife', 'Gama Saúde', 'S. Real', 'CORTESIA',\n",
       "       'S.AMER.', 'Grupo Saúde', 'part', 'PLAN ASS.', 'Correios',\n",
       "       'REALS.', 'SE', 'MEDIAL  S.', 'Medser', 'Media S.', 'norclin',\n",
       "       'sus', 'sta Helen', '38412', 'as', 'NORCLINICAS', 'S.AMER',\n",
       "       'Saude Bradesco', 'Sta Lucia', 'aeronautica', 'BANCEM', '38706',\n",
       "       'Unimed Guararapes', 'Plan A', 'Amériaca S.', 'UNIMED RE',\n",
       "       'CÍRCULO', 'UR/Maceió', 'CIRCULO', 'AMEPCA', 'Fisco S.',\n",
       "       'Plan Assist', 'SUL-AMER', 'MEDESV', 'Uniban', 'SUS/TMO', 'funcef',\n",
       "       'Santa  Helena', 'Facjesf', 'SAUDE RE', 'Mediservic', 'BS',\n",
       "       'S.Bradesco', 'Meridional', 'Amep Camp', 'norclín', 'BLUE LIFE',\n",
       "       'Petrof', 'Shelena', 'PARTIC', 'REEMB', 'PARTICULAR', 'Particulra',\n",
       "       'Sul am', 'tab', 'Amil', 'Caixa', 'RE', 'sudene', 'Ct', 'REAL S',\n",
       "       'PETROX', 'Gama S.', 'TAB/SB', 'ST Helena', 'Círculo Cor',\n",
       "       'CORREIOS', 'Norcl.', 'MERSEV', 'PART.', 'IDEAL S', 'SR',\n",
       "       'Saude Rec', 'BLUL', 'sulamérica', 'VIVO', 'REAL. S.', 'Mediservi',\n",
       "       'Coreios', 'norc', 'SULAMER', 'P.UCMF', 'Ideal Saude',\n",
       "       'norclinicas', 'SUL AM', 'Sulamérica', 'Excelsior/ RHP',\n",
       "       'U. Guara', 'Com Saude', 'PRET', 'S RECIFE', 'FISCOS', 'U.recife',\n",
       "       'Real saude', 'AGF S.', 'CircC', 'Fioprev', 'Gold', 'FUNSEF',\n",
       "       'S;. RECIFE', 'Mediser', 'Petroflex', 'PETRO', 'CISAM', 'sula',\n",
       "       'Excelsior/RHP', 'Unimed Petrolina', 'SHELEN', 'STHELENA', 'PM',\n",
       "       'Santa Lucia', 'AMERICA', 'America  S.', 'ideal', 'Real saúde',\n",
       "       'Ideal Saúde', 'BCO CE', 'exercito', 'U.GUARAP', 'aCmed',\n",
       "       'Norlcínicas', 'TABEL', 'UNIM', 'Corr', 'Assef', 'EMBRA',\n",
       "       'STA HEL.', 'Medial saúde', 'STA HE', 'S.HELEN', 'NORCLÍNICAS',\n",
       "       'gs', 'Sant Helen', 'U.Guararape', 'norclínicas', 'MED',\n",
       "       'Saude Bardesco', 'Banco Central', 'Hospital Residência',\n",
       "       'Excelsior', 'C. Coração', 'Jorge de Medeiros', 'S.Am'],\n",
       "      dtype=object)"
      ]
     },
     "execution_count": 36,
     "metadata": {},
     "output_type": "execute_result"
    }
   ],
   "source": [
    "data['Convenio'].unique()"
   ]
  },
  {
   "cell_type": "markdown",
   "metadata": {},
   "source": [
    "Particularmente, não parece ser uma informação importante para se analisar. Da mesma forma que as datas."
   ]
  },
  {
   "cell_type": "markdown",
   "metadata": {},
   "source": [
    "## Análise de Pulsos"
   ]
  },
  {
   "cell_type": "code",
   "execution_count": 37,
   "metadata": {},
   "outputs": [
    {
     "data": {
      "text/plain": [
       "array(['Normais', nan, 'NORMAIS', 'Outro', 'Amplos', 'AMPLOS',\n",
       "       'Femorais diminuidos', 'Diminuídos '], dtype=object)"
      ]
     },
     "execution_count": 37,
     "metadata": {},
     "output_type": "execute_result"
    }
   ],
   "source": [
    "data['PULSOS'].unique()"
   ]
  },
  {
   "cell_type": "code",
   "execution_count": 38,
   "metadata": {},
   "outputs": [],
   "source": [
    "# Substiui NORMAIS por normais e AMPLOS por Amplos\n",
    "\n",
    "data['PULSOS'] = data['PULSOS'].replace('NORMAIS', 'Normais')\n",
    "data['PULSOS'] = data['PULSOS'].replace('AMPLOS', 'Amplos')"
   ]
  },
  {
   "cell_type": "code",
   "execution_count": 39,
   "metadata": {},
   "outputs": [
    {
     "data": {
      "text/plain": [
       "PULSOS\n",
       "Normais                16214\n",
       "Amplos                    53\n",
       "Outro                     41\n",
       "Femorais diminuidos       37\n",
       "Diminuídos                18\n",
       "Name: count, dtype: int64"
      ]
     },
     "execution_count": 39,
     "metadata": {},
     "output_type": "execute_result"
    }
   ],
   "source": [
    "data['PULSOS'].value_counts()"
   ]
  },
  {
   "cell_type": "code",
   "execution_count": 40,
   "metadata": {},
   "outputs": [
    {
     "data": {
      "text/plain": [
       "PULSOS\n",
       "Normais                17405\n",
       "Amplos                    53\n",
       "Outro                     41\n",
       "Femorais diminuidos       37\n",
       "Diminuídos                18\n",
       "Name: count, dtype: int64"
      ]
     },
     "execution_count": 40,
     "metadata": {},
     "output_type": "execute_result"
    }
   ],
   "source": [
    "# Substitui os valores nulos pela moda\n",
    "\n",
    "data['PULSOS'] = data['PULSOS'].fillna(data['PULSOS'].mode()[0])\n",
    "\n",
    "data['PULSOS'].value_counts()"
   ]
  },
  {
   "cell_type": "markdown",
   "metadata": {},
   "source": [
    "## Análise de PPA"
   ]
  },
  {
   "cell_type": "code",
   "execution_count": 41,
   "metadata": {},
   "outputs": [
    {
     "data": {
      "text/plain": [
       "array(['Não Calculado', 'Normal', 'Pre-Hipertensão PAS', 'HAS-2 PAS',\n",
       "       'Pre-Hipertensão PAD', nan, '#VALUE!', 'HAS-1 PAS', 'HAS-2 PAD',\n",
       "       'HAS-1 PAD'], dtype=object)"
      ]
     },
     "execution_count": 41,
     "metadata": {},
     "output_type": "execute_result"
    }
   ],
   "source": [
    "data['PPA'].unique()"
   ]
  },
  {
   "cell_type": "code",
   "execution_count": 42,
   "metadata": {},
   "outputs": [],
   "source": [
    "# Marca #VALUE! como NaN, sabendo que os valores são categóricos\n",
    "\n",
    "data['PPA'] = data['PPA'].replace('#VALUE!', np.nan)"
   ]
  },
  {
   "cell_type": "code",
   "execution_count": 43,
   "metadata": {},
   "outputs": [
    {
     "data": {
      "text/plain": [
       "PPA\n",
       "Não Calculado          8922\n",
       "Normal                 6005\n",
       "Pre-Hipertensão PAD     227\n",
       "HAS-2 PAS               211\n",
       "Pre-Hipertensão PAS     190\n",
       "HAS-1 PAS               153\n",
       "HAS-1 PAD                84\n",
       "HAS-2 PAD                57\n",
       "Name: count, dtype: int64"
      ]
     },
     "execution_count": 43,
     "metadata": {},
     "output_type": "execute_result"
    }
   ],
   "source": [
    "data['PPA'].value_counts()"
   ]
  },
  {
   "cell_type": "markdown",
   "metadata": {},
   "source": [
    "Como seria muito ruim para a analisar substituir o Não Calculado e, da mesma fora, retirar ele eu deixarei assim."
   ]
  },
  {
   "cell_type": "code",
   "execution_count": 44,
   "metadata": {},
   "outputs": [],
   "source": [
    "# Substitui os valores nulos pela moda\n",
    "\n",
    "data['PPA'] = data['PPA'].fillna(data['PPA'].mode()[0])"
   ]
  },
  {
   "cell_type": "code",
   "execution_count": 45,
   "metadata": {},
   "outputs": [
    {
     "data": {
      "text/plain": [
       "PPA\n",
       "Não Calculado          10627\n",
       "Normal                  6005\n",
       "Pre-Hipertensão PAD      227\n",
       "HAS-2 PAS                211\n",
       "Pre-Hipertensão PAS      190\n",
       "HAS-1 PAS                153\n",
       "HAS-1 PAD                 84\n",
       "HAS-2 PAD                 57\n",
       "Name: count, dtype: int64"
      ]
     },
     "execution_count": 45,
     "metadata": {},
     "output_type": "execute_result"
    }
   ],
   "source": [
    "data['PPA'].value_counts()"
   ]
  },
  {
   "cell_type": "markdown",
   "metadata": {},
   "source": [
    "## Análise de Patologia"
   ]
  },
  {
   "cell_type": "code",
   "execution_count": 46,
   "metadata": {},
   "outputs": [
    {
     "data": {
      "text/plain": [
       "array(['Anormal', 'Normal', nan, 'anormal', 'Normais'], dtype=object)"
      ]
     },
     "execution_count": 46,
     "metadata": {},
     "output_type": "execute_result"
    }
   ],
   "source": [
    "data['NORMAL X ANORMAL'].unique()"
   ]
  },
  {
   "cell_type": "code",
   "execution_count": 47,
   "metadata": {},
   "outputs": [],
   "source": [
    "# Substitui \"anormal\" por \"Anormal\" e \"Normais\" por \"Normal\"\n",
    "\n",
    "data['NORMAL X ANORMAL'] = data['NORMAL X ANORMAL'].replace('anormal', 'Anormal')\n",
    "data['NORMAL X ANORMAL'] = data['NORMAL X ANORMAL'].replace('Normais', 'Normal')"
   ]
  },
  {
   "cell_type": "code",
   "execution_count": 48,
   "metadata": {},
   "outputs": [
    {
     "data": {
      "text/plain": [
       "NORMAL X ANORMAL\n",
       "Normal     9840\n",
       "Anormal    6554\n",
       "Name: count, dtype: int64"
      ]
     },
     "execution_count": 48,
     "metadata": {},
     "output_type": "execute_result"
    }
   ],
   "source": [
    "data['NORMAL X ANORMAL'].value_counts()"
   ]
  },
  {
   "cell_type": "code",
   "execution_count": 49,
   "metadata": {},
   "outputs": [
    {
     "data": {
      "text/plain": [
       "1160"
      ]
     },
     "execution_count": 49,
     "metadata": {},
     "output_type": "execute_result"
    }
   ],
   "source": [
    "# Conta quantos valores nulos tem\n",
    "\n",
    "data['NORMAL X ANORMAL'].isnull().sum()"
   ]
  },
  {
   "cell_type": "markdown",
   "metadata": {},
   "source": [
    "Como este é o nosso label e vamos aplicar aprendizado de máquina supervisionado, para evitar enviasamento vamos remover os valores nulos."
   ]
  },
  {
   "cell_type": "code",
   "execution_count": 50,
   "metadata": {},
   "outputs": [],
   "source": [
    "# Remove os valores cuja coluna \"NORMAL X ANORMAL\" é nula\n",
    "\n",
    "data = data.dropna(subset=['NORMAL X ANORMAL'])"
   ]
  },
  {
   "cell_type": "markdown",
   "metadata": {},
   "source": [
    "## Análise de B2"
   ]
  },
  {
   "cell_type": "code",
   "execution_count": 51,
   "metadata": {},
   "outputs": [
    {
     "data": {
      "text/plain": [
       "array(['Normal', 'Desdob fixo', 'Outro', 'Hiperfonética', 'Única', nan],\n",
       "      dtype=object)"
      ]
     },
     "execution_count": 51,
     "metadata": {},
     "output_type": "execute_result"
    }
   ],
   "source": [
    "data['B2'].unique()"
   ]
  },
  {
   "cell_type": "code",
   "execution_count": 52,
   "metadata": {},
   "outputs": [],
   "source": [
    "# Substitui os valores nulos pela moda\n",
    "\n",
    "data['B2'] = data['B2'].fillna(data['B2'].mode()[0])"
   ]
  },
  {
   "cell_type": "code",
   "execution_count": 53,
   "metadata": {},
   "outputs": [
    {
     "data": {
      "text/plain": [
       "B2\n",
       "Normal           15695\n",
       "Hiperfonética      328\n",
       "Desdob fixo        187\n",
       "Outro              101\n",
       "Única               83\n",
       "Name: count, dtype: int64"
      ]
     },
     "execution_count": 53,
     "metadata": {},
     "output_type": "execute_result"
    }
   ],
   "source": [
    "data['B2'].value_counts()"
   ]
  },
  {
   "cell_type": "markdown",
   "metadata": {},
   "source": [
    "## Análise de Sopro"
   ]
  },
  {
   "cell_type": "code",
   "execution_count": 54,
   "metadata": {},
   "outputs": [
    {
     "data": {
      "text/plain": [
       "array(['Sistólico', 'ausente', 'sistólico', 'contínuo', 'Contínuo',\n",
       "       'diastólico', 'Sistolico e diastólico', nan], dtype=object)"
      ]
     },
     "execution_count": 54,
     "metadata": {},
     "output_type": "execute_result"
    }
   ],
   "source": [
    "data['SOPRO'].unique()"
   ]
  },
  {
   "cell_type": "code",
   "execution_count": 55,
   "metadata": {},
   "outputs": [],
   "source": [
    "# Substitui \"sistólico\" por \"Sistólico\"\n",
    "data['SOPRO'] = data['SOPRO'].replace('sistólico', 'Sistólico')\n",
    "\n",
    "# Substitui \"contínuo\" por \"Contínuo\"\n",
    "data['SOPRO'] = data['SOPRO'].replace('contínuo', 'Contínuo')\n",
    "\n",
    "# Substitui \"diastólico\" por \"Diastólico\"\n",
    "data['SOPRO'] = data['SOPRO'].replace('diastólico', 'Diastólico')\n",
    "\n",
    "# Substitui \"sistólico + diastólico\" por \"Sistólico + Diastólico\"\n",
    "data['SOPRO'] = data['SOPRO'].replace('sistólico + diastólico', 'Sistólico + Diastólico')\n",
    "\n",
    "# Substitui \"ausente\" por \"Ausente\"\n",
    "data['SOPRO'] = data['SOPRO'].replace('ausente', 'Ausente')"
   ]
  },
  {
   "cell_type": "code",
   "execution_count": 56,
   "metadata": {},
   "outputs": [],
   "source": [
    "# Substitui os valores nulos pela moda\n",
    "\n",
    "data['SOPRO'] = data['SOPRO'].fillna(data['SOPRO'].mode()[0])"
   ]
  },
  {
   "cell_type": "code",
   "execution_count": 57,
   "metadata": {},
   "outputs": [
    {
     "data": {
      "text/plain": [
       "SOPRO\n",
       "Ausente                   10555\n",
       "Sistólico                  5777\n",
       "Contínuo                     48\n",
       "Diastólico                   11\n",
       "Sistolico e diastólico        3\n",
       "Name: count, dtype: int64"
      ]
     },
     "execution_count": 57,
     "metadata": {},
     "output_type": "execute_result"
    }
   ],
   "source": [
    "data['SOPRO'].value_counts()"
   ]
  },
  {
   "cell_type": "markdown",
   "metadata": {},
   "source": [
    "## Análise de FC"
   ]
  },
  {
   "cell_type": "code",
   "execution_count": 58,
   "metadata": {},
   "outputs": [
    {
     "data": {
      "text/plain": [
       "array(['112', '128', '88', '92', '90', '100', '96', '80', '120', '110',\n",
       "       '52', '95', '70', '78', '84', '85', '132', '76', '102', '72', nan,\n",
       "       '74', '140', '68', '108', '136', '86', '60', '82', '75', '64',\n",
       "       '130', '200', '124', '160', '94', '164', '152', '1120', '98',\n",
       "       '150', '116', '104', '180', '156', '135', '123', '106', '300',\n",
       "       '10', '115', '55', '65', '142', '170-150', '50', '134', '780',\n",
       "       '92-100', '200-300', '62', '12', '198', '144', '140-150', '111',\n",
       "       '148', '66', '83', '8096', '972', '56', '137', '126', '114', '122',\n",
       "       '900', '125', '80-90', '182', '89', '58', '69', '170', '57', '801',\n",
       "       '50-100', '79', '981', '165', '230', '138', '87', '93', '145',\n",
       "       '133', '43', '1560', '156 a 168', '16', '146', '118', '214', '99',\n",
       "       '65-100', '140-160', '194', '120-180', '48', '107', '60-100',\n",
       "       '154', '97', '140-200', '109', '188', '192', '129', '140-120',\n",
       "       '9288', '66-80', '81', '8', '105', '91', '120-160', '143', '73'],\n",
       "      dtype=object)"
      ]
     },
     "execution_count": 58,
     "metadata": {},
     "output_type": "execute_result"
    }
   ],
   "source": [
    "data['FC'].unique()"
   ]
  },
  {
   "cell_type": "code",
   "execution_count": 59,
   "metadata": {},
   "outputs": [
    {
     "data": {
      "text/plain": [
       "FC\n",
       "80           2439\n",
       "100          2017\n",
       "90           1718\n",
       "88           1193\n",
       "96           1054\n",
       "             ... \n",
       "133             1\n",
       "43              1\n",
       "1560            1\n",
       "156 a 168       1\n",
       "73              1\n",
       "Name: count, Length: 127, dtype: int64"
      ]
     },
     "execution_count": 59,
     "metadata": {},
     "output_type": "execute_result"
    }
   ],
   "source": [
    "data['FC'].value_counts()"
   ]
  },
  {
   "cell_type": "code",
   "execution_count": 60,
   "metadata": {},
   "outputs": [],
   "source": [
    "# Substitui os valores nulos pela moda\n",
    "\n",
    "data['FC'] = data['FC'].fillna(data['FC'].mode()[0])"
   ]
  },
  {
   "cell_type": "markdown",
   "metadata": {},
   "source": [
    "## Análise de HDA 1"
   ]
  },
  {
   "cell_type": "code",
   "execution_count": 61,
   "metadata": {},
   "outputs": [
    {
     "data": {
      "text/plain": [
       "array(['Palpitacao', 'Dispneia', 'Assintomático', nan, 'Dor precordial',\n",
       "       'Desmaio/tontura', 'Outro', 'Cianose', 'Ganho de peso'],\n",
       "      dtype=object)"
      ]
     },
     "execution_count": 61,
     "metadata": {},
     "output_type": "execute_result"
    }
   ],
   "source": [
    "data['HDA 1'].unique()"
   ]
  },
  {
   "cell_type": "code",
   "execution_count": 62,
   "metadata": {},
   "outputs": [],
   "source": [
    "# Substitui os valores nulos pela moda\n",
    "\n",
    "data['HDA 1'] = data['HDA 1'].fillna(data['HDA 1'].mode()[0])"
   ]
  },
  {
   "cell_type": "code",
   "execution_count": 63,
   "metadata": {},
   "outputs": [
    {
     "data": {
      "text/plain": [
       "HDA 1\n",
       "Assintomático      13296\n",
       "Dor precordial       856\n",
       "Dispneia             744\n",
       "Palpitacao           563\n",
       "Cianose              289\n",
       "Desmaio/tontura      264\n",
       "Outro                204\n",
       "Ganho de peso        178\n",
       "Name: count, dtype: int64"
      ]
     },
     "execution_count": 63,
     "metadata": {},
     "output_type": "execute_result"
    }
   ],
   "source": [
    "data['HDA 1'].value_counts()"
   ]
  },
  {
   "cell_type": "markdown",
   "metadata": {},
   "source": [
    "## Análise de HDA2"
   ]
  },
  {
   "cell_type": "code",
   "execution_count": 64,
   "metadata": {},
   "outputs": [
    {
     "data": {
      "text/plain": [
       "array([nan, 'Dispneia', 'Palpitacao', 'Desmaio/tontura', 'Ganho de peso',\n",
       "       'Outro', 'Dor precordial', 'Assintomático', 'Cianose'],\n",
       "      dtype=object)"
      ]
     },
     "execution_count": 64,
     "metadata": {},
     "output_type": "execute_result"
    }
   ],
   "source": [
    "data['HDA2'].unique()"
   ]
  },
  {
   "cell_type": "code",
   "execution_count": 65,
   "metadata": {},
   "outputs": [],
   "source": [
    "# Substitui os valores nulos pela moda\n",
    "\n",
    "data['HDA2'] = data['HDA2'].fillna(data['HDA2'].mode()[0])"
   ]
  },
  {
   "cell_type": "code",
   "execution_count": 66,
   "metadata": {},
   "outputs": [
    {
     "data": {
      "text/plain": [
       "HDA2\n",
       "Palpitacao         15912\n",
       "Dispneia             133\n",
       "Dor precordial        95\n",
       "Cianose               81\n",
       "Desmaio/tontura       75\n",
       "Outro                 63\n",
       "Ganho de peso         34\n",
       "Assintomático          1\n",
       "Name: count, dtype: int64"
      ]
     },
     "execution_count": 66,
     "metadata": {},
     "output_type": "execute_result"
    }
   ],
   "source": [
    "data['HDA2'].value_counts()"
   ]
  },
  {
   "cell_type": "markdown",
   "metadata": {},
   "source": [
    "## Análise de SEXO"
   ]
  },
  {
   "cell_type": "code",
   "execution_count": 67,
   "metadata": {},
   "outputs": [
    {
     "data": {
      "text/plain": [
       "array(['M', 'F', 'Indeterminado', nan, 'Masculino', 'Feminino',\n",
       "       'masculino'], dtype=object)"
      ]
     },
     "execution_count": 67,
     "metadata": {},
     "output_type": "execute_result"
    }
   ],
   "source": [
    "data['SEXO'].unique()"
   ]
  },
  {
   "cell_type": "code",
   "execution_count": 68,
   "metadata": {},
   "outputs": [],
   "source": [
    "# Substitui 'M' por 'Masculino' e 'F' por 'Feminino'\n",
    "\n",
    "data['SEXO'] = data['SEXO'].replace('M', 'Masculino')\n",
    "data['SEXO'] = data['SEXO'].replace('F', 'Feminino')"
   ]
  },
  {
   "cell_type": "code",
   "execution_count": 69,
   "metadata": {},
   "outputs": [
    {
     "data": {
      "text/plain": [
       "array(['Masculino', 'Feminino', 'Indeterminado', nan, 'masculino'],\n",
       "      dtype=object)"
      ]
     },
     "execution_count": 69,
     "metadata": {},
     "output_type": "execute_result"
    }
   ],
   "source": [
    "data['SEXO'].unique()"
   ]
  },
  {
   "cell_type": "code",
   "execution_count": 70,
   "metadata": {},
   "outputs": [
    {
     "data": {
      "text/plain": [
       "array(['Masculino', 'Feminino', 'Indeterminado', nan], dtype=object)"
      ]
     },
     "execution_count": 70,
     "metadata": {},
     "output_type": "execute_result"
    }
   ],
   "source": [
    "# Substitui \"masculino\" por \"Masculino\"\n",
    "\n",
    "data['SEXO'] = data['SEXO'].replace('masculino', 'Masculino')\n",
    "\n",
    "data['SEXO'].unique()"
   ]
  },
  {
   "cell_type": "code",
   "execution_count": 71,
   "metadata": {},
   "outputs": [
    {
     "data": {
      "text/plain": [
       "SEXO\n",
       "Masculino        9181\n",
       "Feminino         6549\n",
       "Indeterminado     660\n",
       "Name: count, dtype: int64"
      ]
     },
     "execution_count": 71,
     "metadata": {},
     "output_type": "execute_result"
    }
   ],
   "source": [
    "data['SEXO'].value_counts()"
   ]
  },
  {
   "cell_type": "code",
   "execution_count": 72,
   "metadata": {},
   "outputs": [
    {
     "data": {
      "text/plain": [
       "SEXO\n",
       "Masculino        9185\n",
       "Feminino         6549\n",
       "Indeterminado     660\n",
       "Name: count, dtype: int64"
      ]
     },
     "execution_count": 72,
     "metadata": {},
     "output_type": "execute_result"
    }
   ],
   "source": [
    "# Substitui os valores nulos pela moda\n",
    "\n",
    "data['SEXO'] = data['SEXO'].fillna(data['SEXO'].mode()[0])\n",
    "\n",
    "data['SEXO'].value_counts()"
   ]
  },
  {
   "cell_type": "markdown",
   "metadata": {},
   "source": [
    "## Análise de MOTIVO1"
   ]
  },
  {
   "cell_type": "code",
   "execution_count": 73,
   "metadata": {},
   "outputs": [
    {
     "data": {
      "text/plain": [
       "MOTIVO1\n",
       "5 - Parecer cardiológico           7719\n",
       "6 - Suspeita de cardiopatia        5572\n",
       "1 - Cardiopatia já estabelecida    1361\n",
       "2 - Check-up                       1008\n",
       "7 - Outro                           419\n",
       "Name: count, dtype: int64"
      ]
     },
     "execution_count": 73,
     "metadata": {},
     "output_type": "execute_result"
    }
   ],
   "source": [
    "data['MOTIVO1'].value_counts()"
   ]
  },
  {
   "cell_type": "code",
   "execution_count": 74,
   "metadata": {},
   "outputs": [
    {
     "data": {
      "text/plain": [
       "MOTIVO1\n",
       "5 - Parecer cardiológico           8034\n",
       "6 - Suspeita de cardiopatia        5572\n",
       "1 - Cardiopatia já estabelecida    1361\n",
       "2 - Check-up                       1008\n",
       "7 - Outro                           419\n",
       "Name: count, dtype: int64"
      ]
     },
     "execution_count": 74,
     "metadata": {},
     "output_type": "execute_result"
    }
   ],
   "source": [
    "# Substitui os valores nulos pela moda\n",
    "\n",
    "data['MOTIVO1'] = data['MOTIVO1'].fillna(data['MOTIVO1'].mode()[0])\n",
    "\n",
    "data['MOTIVO1'].value_counts()"
   ]
  },
  {
   "cell_type": "markdown",
   "metadata": {},
   "source": [
    "## Análise de MOTIVO2"
   ]
  },
  {
   "cell_type": "code",
   "execution_count": 75,
   "metadata": {},
   "outputs": [
    {
     "data": {
      "text/plain": [
       "MOTIVO2\n",
       "5 - Cirurgia                           4059\n",
       "6 - Sopro                              2861\n",
       "1 - Cardiopatia congenica              1203\n",
       "5 - Atividade física                   1050\n",
       "Outro                                  1029\n",
       "6 - Dor precordial                      614\n",
       "6 - Palpitação/taquicardia/arritmia     561\n",
       "6 - HAS/dislipidemia/obesidade          402\n",
       "6 - Dispnéia                            312\n",
       "6 - Cianose                             156\n",
       "1 - Cardiopatia adquirida               127\n",
       "6 - Cardiopatia na familia               49\n",
       "6 - Cansaço                              17\n",
       "5 - Uso de cisaprida                      9\n",
       "6 - Alterações de pulso/perfusão          5\n",
       "6 - Cianose e dispnéia                    3\n",
       "Name: count, dtype: int64"
      ]
     },
     "execution_count": 75,
     "metadata": {},
     "output_type": "execute_result"
    }
   ],
   "source": [
    "data['MOTIVO2'].value_counts()"
   ]
  },
  {
   "cell_type": "markdown",
   "metadata": {},
   "source": [
    "Podemos verificar que:\n",
    "\n",
    "- 1: Cardiopatias congênitas ou adquiridas\n",
    "- 5: Motivos relacionados a cirurgia, atividade física ou uso de medicamentos (como cisaprida)\n",
    "- 6: Sintomas ou fatores de risco cardiovasculares (como sopro, dor precordial, palpitações, hipertensão arterial, etc.)\n",
    "\n",
    "Logo, vamos agrupar por grupo."
   ]
  },
  {
   "cell_type": "code",
   "execution_count": 76,
   "metadata": {},
   "outputs": [],
   "source": [
    "def agrupa_motivo(motivo):\n",
    "    if '1' in motivo:\n",
    "        return 'Grupo 1'\n",
    "    if '2' in motivo:\n",
    "        return 'Grupo 2'\n",
    "    if '3' in motivo:\n",
    "        return 'Grupo 3'\n",
    "    if '4' in motivo:\n",
    "        return 'Grupo 4'\n",
    "    if '5' in motivo:\n",
    "        return 'Grupo 5'\n",
    "    if '6' in motivo:\n",
    "        return 'Grupo 6'\n",
    "    if '7' in motivo:\n",
    "        return 'Grupo 7'"
   ]
  },
  {
   "cell_type": "code",
   "execution_count": 77,
   "metadata": {},
   "outputs": [],
   "source": [
    "# Aplica a função agrupa_motivo em cada um dos valores da coluna MOTIVO2 que não são nulos \n",
    "\n",
    "data['MOTIVO2'] = data['MOTIVO2'].apply(lambda x: agrupa_motivo(x) if pd.notnull(x) else x)"
   ]
  },
  {
   "cell_type": "code",
   "execution_count": 78,
   "metadata": {},
   "outputs": [
    {
     "data": {
      "text/plain": [
       "MOTIVO2\n",
       "Grupo 5    5118\n",
       "Grupo 6    4980\n",
       "Grupo 1    1330\n",
       "Name: count, dtype: int64"
      ]
     },
     "execution_count": 78,
     "metadata": {},
     "output_type": "execute_result"
    }
   ],
   "source": [
    "data['MOTIVO2'].value_counts()"
   ]
  },
  {
   "cell_type": "code",
   "execution_count": 79,
   "metadata": {},
   "outputs": [
    {
     "data": {
      "text/plain": [
       "MOTIVO1\n",
       "Grupo 5    8034\n",
       "Grupo 6    5572\n",
       "Grupo 1    1361\n",
       "Grupo 2    1008\n",
       "Grupo 7     419\n",
       "Name: count, dtype: int64"
      ]
     },
     "execution_count": 79,
     "metadata": {},
     "output_type": "execute_result"
    }
   ],
   "source": [
    "# Aplica em \"MOTIVO1\"\n",
    "\n",
    "data['MOTIVO1'] = data['MOTIVO1'].apply(lambda x: agrupa_motivo(x) if pd.notnull(x) else x)\n",
    "\n",
    "data['MOTIVO1'].value_counts()"
   ]
  },
  {
   "cell_type": "code",
   "execution_count": 80,
   "metadata": {},
   "outputs": [],
   "source": [
    "# Substitui os valores nulos pela moda em ambos\n",
    "\n",
    "data['MOTIVO1'] = data['MOTIVO1'].fillna(data['MOTIVO1'].mode()[0])\n",
    "data['MOTIVO2'] = data['MOTIVO2'].fillna(data['MOTIVO2'].mode()[0])"
   ]
  },
  {
   "cell_type": "code",
   "execution_count": 81,
   "metadata": {},
   "outputs": [
    {
     "data": {
      "text/plain": [
       "MOTIVO1\n",
       "Grupo 5    8034\n",
       "Grupo 6    5572\n",
       "Grupo 1    1361\n",
       "Grupo 2    1008\n",
       "Grupo 7     419\n",
       "Name: count, dtype: int64"
      ]
     },
     "execution_count": 81,
     "metadata": {},
     "output_type": "execute_result"
    }
   ],
   "source": [
    "data['MOTIVO1'].value_counts()"
   ]
  },
  {
   "cell_type": "code",
   "execution_count": 82,
   "metadata": {},
   "outputs": [
    {
     "data": {
      "text/plain": [
       "MOTIVO2\n",
       "Grupo 5    10084\n",
       "Grupo 6     4980\n",
       "Grupo 1     1330\n",
       "Name: count, dtype: int64"
      ]
     },
     "execution_count": 82,
     "metadata": {},
     "output_type": "execute_result"
    }
   ],
   "source": [
    "data['MOTIVO2'].value_counts()"
   ]
  },
  {
   "cell_type": "markdown",
   "metadata": {},
   "source": [
    "## Eliminando Duplicatas"
   ]
  },
  {
   "cell_type": "code",
   "execution_count": 83,
   "metadata": {},
   "outputs": [],
   "source": [
    "data = data.drop(columns=['Atendimento', 'DN', 'Convenio', 'PA SISTOLICA', \"PA DIASTOLICA\"])"
   ]
  },
  {
   "cell_type": "code",
   "execution_count": 84,
   "metadata": {},
   "outputs": [
    {
     "data": {
      "text/plain": [
       "551"
      ]
     },
     "execution_count": 84,
     "metadata": {},
     "output_type": "execute_result"
    }
   ],
   "source": [
    "# Verifica se há valores duplicados\n",
    "\n",
    "data.duplicated().sum()"
   ]
  },
  {
   "cell_type": "code",
   "execution_count": 85,
   "metadata": {},
   "outputs": [],
   "source": [
    "# Remove os valores duplicados\n",
    "\n",
    "data = data.drop_duplicates()"
   ]
  },
  {
   "cell_type": "markdown",
   "metadata": {},
   "source": [
    "# Salvando o .csv"
   ]
  },
  {
   "cell_type": "code",
   "execution_count": 86,
   "metadata": {},
   "outputs": [],
   "source": [
    "# Salva os dados como \"UCMF_limpo.csv\"\n",
    "\n",
    "data.to_csv('data/UCMF_limpo.csv')"
   ]
  }
 ],
 "metadata": {
  "kernelspec": {
   "display_name": "Python 3",
   "language": "python",
   "name": "python3"
  },
  "language_info": {
   "codemirror_mode": {
    "name": "ipython",
    "version": 3
   },
   "file_extension": ".py",
   "mimetype": "text/x-python",
   "name": "python",
   "nbconvert_exporter": "python",
   "pygments_lexer": "ipython3",
   "version": "3.11.5"
  }
 },
 "nbformat": 4,
 "nbformat_minor": 2
}
